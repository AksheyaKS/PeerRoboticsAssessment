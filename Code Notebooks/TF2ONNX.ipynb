{
 "cells": [
  {
   "cell_type": "code",
   "execution_count": 6,
   "id": "ea36345a-ae9d-41fc-ac67-f05c6b4f0b5e",
   "metadata": {},
   "outputs": [
    {
     "name": "stdout",
     "output_type": "stream",
     "text": [
      "Defaulting to user installation because normal site-packages is not writeable\n",
      "Requirement already satisfied: onnx in c:\\users\\ksaks\\appdata\\roaming\\python\\python312\\site-packages (1.17.0)\n",
      "Collecting onnxruntime\n",
      "  Downloading onnxruntime-1.21.1-cp312-cp312-win_amd64.whl.metadata (4.9 kB)\n",
      "Requirement already satisfied: numpy>=1.20 in c:\\programdata\\anaconda3\\lib\\site-packages (from onnx) (1.26.4)\n",
      "Requirement already satisfied: protobuf>=3.20.2 in c:\\users\\ksaks\\appdata\\roaming\\python\\python312\\site-packages (from onnx) (3.20.3)\n",
      "Collecting coloredlogs (from onnxruntime)\n",
      "  Using cached coloredlogs-15.0.1-py2.py3-none-any.whl.metadata (12 kB)\n",
      "Requirement already satisfied: flatbuffers in c:\\users\\ksaks\\appdata\\roaming\\python\\python312\\site-packages (from onnxruntime) (25.2.10)\n",
      "Requirement already satisfied: packaging in c:\\programdata\\anaconda3\\lib\\site-packages (from onnxruntime) (24.1)\n",
      "Requirement already satisfied: sympy in c:\\users\\ksaks\\appdata\\roaming\\python\\python312\\site-packages (from onnxruntime) (1.13.1)\n",
      "Collecting humanfriendly>=9.1 (from coloredlogs->onnxruntime)\n",
      "  Using cached humanfriendly-10.0-py2.py3-none-any.whl.metadata (9.2 kB)\n",
      "Requirement already satisfied: mpmath<1.4,>=1.1.0 in c:\\programdata\\anaconda3\\lib\\site-packages (from sympy->onnxruntime) (1.3.0)\n",
      "Collecting pyreadline3 (from humanfriendly>=9.1->coloredlogs->onnxruntime)\n",
      "  Using cached pyreadline3-3.5.4-py3-none-any.whl.metadata (4.7 kB)\n",
      "Downloading onnxruntime-1.21.1-cp312-cp312-win_amd64.whl (12.3 MB)\n",
      "   ---------------------------------------- 0.0/12.3 MB ? eta -:--:--\n",
      "   --- ------------------------------------ 1.0/12.3 MB 5.6 MB/s eta 0:00:03\n",
      "   ------- -------------------------------- 2.4/12.3 MB 6.4 MB/s eta 0:00:02\n",
      "   ------------ --------------------------- 3.9/12.3 MB 6.9 MB/s eta 0:00:02\n",
      "   ------------------ --------------------- 5.8/12.3 MB 7.5 MB/s eta 0:00:01\n",
      "   ----------------------- ---------------- 7.1/12.3 MB 7.4 MB/s eta 0:00:01\n",
      "   ---------------------------- ----------- 8.9/12.3 MB 7.7 MB/s eta 0:00:01\n",
      "   ----------------------------------- ---- 11.0/12.3 MB 8.1 MB/s eta 0:00:01\n",
      "   ---------------------------------------- 12.3/12.3 MB 8.0 MB/s eta 0:00:00\n",
      "Using cached coloredlogs-15.0.1-py2.py3-none-any.whl (46 kB)\n",
      "Using cached humanfriendly-10.0-py2.py3-none-any.whl (86 kB)\n",
      "Using cached pyreadline3-3.5.4-py3-none-any.whl (83 kB)\n",
      "Installing collected packages: pyreadline3, humanfriendly, coloredlogs, onnxruntime\n",
      "Successfully installed coloredlogs-15.0.1 humanfriendly-10.0 onnxruntime-1.21.1 pyreadline3-3.5.4\n"
     ]
    },
    {
     "name": "stderr",
     "output_type": "stream",
     "text": [
      "  WARNING: The script humanfriendly.exe is installed in 'C:\\Users\\ksaks\\AppData\\Roaming\\Python\\Python312\\Scripts' which is not on PATH.\n",
      "  Consider adding this directory to PATH or, if you prefer to suppress this warning, use --no-warn-script-location.\n",
      "  WARNING: The script coloredlogs.exe is installed in 'C:\\Users\\ksaks\\AppData\\Roaming\\Python\\Python312\\Scripts' which is not on PATH.\n",
      "  Consider adding this directory to PATH or, if you prefer to suppress this warning, use --no-warn-script-location.\n",
      "  WARNING: The script onnxruntime_test.exe is installed in 'C:\\Users\\ksaks\\AppData\\Roaming\\Python\\Python312\\Scripts' which is not on PATH.\n",
      "  Consider adding this directory to PATH or, if you prefer to suppress this warning, use --no-warn-script-location.\n"
     ]
    }
   ],
   "source": [
    "!pip install onnx onnxruntime"
   ]
  },
  {
   "cell_type": "code",
   "execution_count": 3,
   "id": "344f6a92-32b8-4f2c-96e8-053976ee3f01",
   "metadata": {},
   "outputs": [
    {
     "name": "stdout",
     "output_type": "stream",
     "text": [
      "WARNING:tensorflow:From C:\\Users\\ksaks\\AppData\\Roaming\\Python\\Python312\\site-packages\\tf2onnx\\tf_loader.py:68: The name tf.reset_default_graph is deprecated. Please use tf.compat.v1.reset_default_graph instead.\n",
      "\n",
      "WARNING:tensorflow:From C:\\Users\\ksaks\\AppData\\Roaming\\Python\\Python312\\site-packages\\tf2onnx\\tf_loader.py:72: The name tf.train.import_meta_graph is deprecated. Please use tf.compat.v1.train.import_meta_graph instead.\n",
      "\n"
     ]
    }
   ],
   "source": [
    "import tensorflow as tf\n",
    "import tf2onnx"
   ]
  },
  {
   "cell_type": "code",
   "execution_count": 5,
   "id": "5f93ab70-4e9f-4139-b25a-ba254c6d576e",
   "metadata": {},
   "outputs": [
    {
     "name": "stdout",
     "output_type": "stream",
     "text": [
      "✅ ONNX model saved to C:\\Users\\ksaks\\Documents\\Masters Stuff\\PR\\EuroPalletSeg\\test\\models\\ground_seg.onnx\n"
     ]
    }
   ],
   "source": [
    "model = tf.keras.models.load_model(r\"C:\\Users\\ksaks\\Documents\\Masters Stuff\\PR\\EuroPalletSeg\\test\\models\\best_model_epoch52_valacc0.99.h5\", compile=False)\n",
    "\n",
    "spec = (tf.TensorSpec((None, 256, 256, 3), tf.float32, name=\"input\"),)\n",
    "output_path = r\"C:\\Users\\ksaks\\Documents\\Masters Stuff\\PR\\EuroPalletSeg\\test\\models\\ground_seg.onnx\"\n",
    "\n",
    "model_proto, external_tensor_storage = tf2onnx.convert.from_keras(\n",
    "    model,\n",
    "    input_signature=spec,\n",
    "    output_path=output_path,\n",
    "    opset=13\n",
    ")\n",
    "\n",
    "print(f\"✅ ONNX model saved to {output_path}\")"
   ]
  },
  {
   "cell_type": "code",
   "execution_count": 7,
   "id": "46e147cd-95fc-48c4-a5b7-1865269fa0b2",
   "metadata": {},
   "outputs": [
    {
     "name": "stdout",
     "output_type": "stream",
     "text": [
      "Ultralytics 8.3.110  Python-3.12.7 torch-2.6.0+cpu CPU (AMD Ryzen 7 5800H with Radeon Graphics)\n",
      "Model summary (fused): 72 layers, 11,125,971 parameters, 0 gradients, 28.4 GFLOPs\n",
      "\n",
      "\u001b[34m\u001b[1mPyTorch:\u001b[0m starting from 'C:\\Users\\ksaks\\Documents\\Masters Stuff\\PR\\EuroPalletSeg\\test\\models\\best_epoch87_mAP0.833.pt' with input shape (1, 3, 640, 640) BCHW and output shape(s) (1, 5, 8400) (42.8 MB)\n",
      "\u001b[31m\u001b[1mrequirements:\u001b[0m Ultralytics requirement ['onnxslim'] not found, attempting AutoUpdate...\n",
      "Defaulting to user installation because normal site-packages is not writeable\n",
      "Collecting onnxslim\n",
      "  Downloading onnxslim-0.1.50-py3-none-any.whl.metadata (4.8 kB)\n",
      "Requirement already satisfied: onnx in c:\\users\\ksaks\\appdata\\roaming\\python\\python312\\site-packages (from onnxslim) (1.17.0)\n",
      "Requirement already satisfied: sympy in c:\\users\\ksaks\\appdata\\roaming\\python\\python312\\site-packages (from onnxslim) (1.13.1)\n",
      "Requirement already satisfied: packaging in c:\\programdata\\anaconda3\\lib\\site-packages (from onnxslim) (24.1)\n",
      "Requirement already satisfied: numpy>=1.20 in c:\\programdata\\anaconda3\\lib\\site-packages (from onnx->onnxslim) (1.26.4)\n",
      "Requirement already satisfied: protobuf>=3.20.2 in c:\\users\\ksaks\\appdata\\roaming\\python\\python312\\site-packages (from onnx->onnxslim) (3.20.3)\n",
      "Requirement already satisfied: mpmath<1.4,>=1.1.0 in c:\\programdata\\anaconda3\\lib\\site-packages (from sympy->onnxslim) (1.3.0)\n",
      "Downloading onnxslim-0.1.50-py3-none-any.whl (144 kB)\n",
      "Installing collected packages: onnxslim\n",
      "Successfully installed onnxslim-0.1.50\n",
      "\n",
      "\u001b[31m\u001b[1mrequirements:\u001b[0m AutoUpdate success  4.2s, installed 1 package: ['onnxslim']\n",
      "\u001b[31m\u001b[1mrequirements:\u001b[0m  \u001b[1mRestart runtime or rerun command for updates to take effect\u001b[0m\n",
      "\n",
      "\n",
      "\u001b[34m\u001b[1mONNX:\u001b[0m starting export with onnx 1.17.0 opset 19...\n",
      "\u001b[34m\u001b[1mONNX:\u001b[0m slimming with onnxslim 0.1.50...\n",
      "\u001b[34m\u001b[1mONNX:\u001b[0m export success  6.6s, saved as 'C:\\Users\\ksaks\\Documents\\Masters Stuff\\PR\\EuroPalletSeg\\test\\models\\best_epoch87_mAP0.833.onnx' (42.7 MB)\n",
      "\n",
      "Export complete (7.2s)\n",
      "Results saved to \u001b[1mC:\\Users\\ksaks\\Documents\\Masters Stuff\\PR\\EuroPalletSeg\\test\\models\u001b[0m\n",
      "Predict:         yolo predict task=detect model=C:\\Users\\ksaks\\Documents\\Masters Stuff\\PR\\EuroPalletSeg\\test\\models\\best_epoch87_mAP0.833.onnx imgsz=640  \n",
      "Validate:        yolo val task=detect model=C:\\Users\\ksaks\\Documents\\Masters Stuff\\PR\\EuroPalletSeg\\test\\models\\best_epoch87_mAP0.833.onnx imgsz=640 data=/content/drive/MyDrive/UMich/PR/EuroPallet/data.yaml  \n",
      "Visualize:       https://netron.app\n"
     ]
    },
    {
     "data": {
      "text/plain": [
       "'C:\\\\Users\\\\ksaks\\\\Documents\\\\Masters Stuff\\\\PR\\\\EuroPalletSeg\\\\test\\\\models\\\\best_epoch87_mAP0.833.onnx'"
      ]
     },
     "execution_count": 7,
     "metadata": {},
     "output_type": "execute_result"
    }
   ],
   "source": [
    "from ultralytics import YOLO\n",
    "\n",
    "model = YOLO(r\"C:\\Users\\ksaks\\Documents\\Masters Stuff\\PR\\EuroPalletSeg\\test\\models\\best_epoch87_mAP0.833.pt\")\n",
    "\n",
    "model.export(format=\"onnx\")"
   ]
  },
  {
   "cell_type": "code",
   "execution_count": 1,
   "id": "7352f7ff-1f8c-45ee-98fc-6fe5b8baefb7",
   "metadata": {},
   "outputs": [
    {
     "name": "stdout",
     "output_type": "stream",
     "text": [
      "Input shape: [1, 3, 640, 640]\n",
      "Output shape: (1, 5, 8400)\n",
      "First 5 predictions:\n",
      "[[5.7766218e+00 9.9075279e+00 2.0080826e+01 ... 4.5771008e+02\n",
      "  4.7455365e+02 4.9900818e+02]\n",
      " [3.0324361e+00 2.9124870e+00 3.0288143e+00 ... 6.2654700e+02\n",
      "  6.2336511e+02 6.2355682e+02]\n",
      " [1.0552881e+01 1.5155688e+01 8.1122513e+00 ... 3.6564700e+02\n",
      "  3.3288599e+02 2.8093814e+02]\n",
      " [6.0725026e+00 5.7460613e+00 5.8069611e+00 ... 2.6745422e+01\n",
      "  3.2827454e+01 3.1003906e+01]\n",
      " [6.8336725e-04 2.3818016e-04 1.0392070e-04 ... 7.2121620e-06\n",
      "  2.4884939e-05 7.8499317e-05]]\n"
     ]
    }
   ],
   "source": [
    "import onnxruntime as ort\n",
    "import numpy as np\n",
    "\n",
    "session = ort.InferenceSession(r\"C:\\Users\\ksaks\\Documents\\Masters Stuff\\PR\\EuroPalletSeg\\test\\models\\best.onnx\")\n",
    "input_name = session.get_inputs()[0].name\n",
    "print(\"Input shape:\", session.get_inputs()[0].shape)\n",
    "\n",
    "dummy_input = np.random.rand(1, 3, 640, 640).astype(np.float32)\n",
    "outputs = session.run(None, {input_name: dummy_input})\n",
    "\n",
    "print(\"Output shape:\", outputs[0].shape)\n",
    "print(\"First 5 predictions:\")\n",
    "print(outputs[0][0][:5])"
   ]
  },
  {
   "cell_type": "code",
   "execution_count": null,
   "id": "cad0aa6d-ec3c-4a4b-84aa-0e6bfd901185",
   "metadata": {},
   "outputs": [],
   "source": []
  }
 ],
 "metadata": {
  "kernelspec": {
   "display_name": "Python 3 (ipykernel)",
   "language": "python",
   "name": "python3"
  },
  "language_info": {
   "codemirror_mode": {
    "name": "ipython",
    "version": 3
   },
   "file_extension": ".py",
   "mimetype": "text/x-python",
   "name": "python",
   "nbconvert_exporter": "python",
   "pygments_lexer": "ipython3",
   "version": "3.12.7"
  }
 },
 "nbformat": 4,
 "nbformat_minor": 5
}
