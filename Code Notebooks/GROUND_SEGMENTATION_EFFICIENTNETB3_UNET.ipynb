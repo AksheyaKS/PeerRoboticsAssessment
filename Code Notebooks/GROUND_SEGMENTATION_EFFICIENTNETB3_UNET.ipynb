{
  "nbformat": 4,
  "nbformat_minor": 0,
  "metadata": {
    "colab": {
      "provenance": [],
      "machine_shape": "hm",
      "gpuType": "A100"
    },
    "kernelspec": {
      "name": "python3",
      "display_name": "Python 3"
    },
    "language_info": {
      "name": "python"
    },
    "accelerator": "GPU"
  },
  "cells": [
    {
      "cell_type": "code",
      "source": [
        "import os\n",
        "import numpy as np\n",
        "import tensorflow as tf\n",
        "import matplotlib.pyplot as plt\n",
        "import tensorflow_hub as hub\n",
        "import tensorflow as tf\n",
        "from tensorflow.keras import layers, models\n",
        "from tensorflow.keras.applications import EfficientNetB3\n",
        "from tensorflow.keras.optimizers import Adam\n",
        "from tensorflow.keras.callbacks import ModelCheckpoint, ReduceLROnPlateau, TensorBoard, CSVLogger\n",
        "from tensorflow.keras.metrics import BinaryIoU, Precision, Recall"
      ],
      "metadata": {
        "id": "RmgPTuRw6NsF"
      },
      "execution_count": null,
      "outputs": []
    },
    {
      "cell_type": "code",
      "source": [
        "from google.colab import drive\n",
        "drive.mount('/content/drive')"
      ],
      "metadata": {
        "colab": {
          "base_uri": "https://localhost:8080/"
        },
        "id": "5pP8jvA25eT-",
        "outputId": "f834ea66-609d-4234-a63f-bd4f15931e15"
      },
      "execution_count": null,
      "outputs": [
        {
          "output_type": "stream",
          "name": "stdout",
          "text": [
            "Mounted at /content/drive\n"
          ]
        }
      ]
    },
    {
      "cell_type": "code",
      "source": [
        "print(\"TensorFlow version:\", tf.__version__)\n",
        "print(\"GPU Available:\", tf.config.list_physical_devices('GPU'))"
      ],
      "metadata": {
        "colab": {
          "base_uri": "https://localhost:8080/"
        },
        "id": "D2ycAT3UAK3W",
        "outputId": "49f8f04a-3d84-46a8-cd15-e443fe47acb9"
      },
      "execution_count": null,
      "outputs": [
        {
          "output_type": "stream",
          "name": "stdout",
          "text": [
            "TensorFlow version: 2.18.0\n",
            "GPU Available: [PhysicalDevice(name='/physical_device:GPU:0', device_type='GPU')]\n"
          ]
        }
      ]
    },
    {
      "cell_type": "code",
      "source": [
        "TRAIN_IMAGE_DIR = \"/content/drive/MyDrive/UMich/PR/EuroPalletSeg/train/images\"\n",
        "TRAIN_MASK_DIR = \"/content/drive/MyDrive/UMich/PR/EuroPalletSeg/train/masks\"\n",
        "VAL_IMAGE_DIR   = \"/content/drive/MyDrive/UMich/PR/EuroPalletSeg/valid/images\"\n",
        "VAL_MASK_DIR    = \"/content/drive/MyDrive/UMich/PR/EuroPalletSeg/valid/masks\"\n",
        "IMG_SIZE = (256, 256)\n",
        "BATCH_SIZE = 32"
      ],
      "metadata": {
        "id": "ItWsqmqG6TnX"
      },
      "execution_count": null,
      "outputs": []
    },
    {
      "cell_type": "code",
      "source": [
        "\n",
        "def process_image_mask(image_path, mask_path):\n",
        "    image = tf.io.read_file(image_path)\n",
        "    image = tf.image.decode_jpeg(image, channels=3)\n",
        "    image = tf.image.resize(image, IMG_SIZE) / 255.0\n",
        "\n",
        "    mask = tf.io.read_file(mask_path)\n",
        "    mask = tf.image.decode_png(mask, channels=1)\n",
        "    mask = tf.image.resize(mask, IMG_SIZE, method=\"nearest\")\n",
        "    mask = tf.cast(mask > 127, tf.uint8)  # 0 or 1 only\n",
        "\n",
        "    return image, mask\n",
        "\n",
        "def load_dataset(image_dir, mask_dir):\n",
        "    image_paths = sorted([os.path.join(image_dir, f) for f in os.listdir(image_dir)])\n",
        "    mask_paths = sorted([os.path.join(mask_dir, f) for f in os.listdir(mask_dir)])\n",
        "    dataset = tf.data.Dataset.from_tensor_slices((image_paths, mask_paths))\n",
        "    dataset = dataset.map(process_image_mask, num_parallel_calls=tf.data.AUTOTUNE)\n",
        "    return dataset"
      ],
      "metadata": {
        "id": "ZrRgFIaa6Td-"
      },
      "execution_count": null,
      "outputs": []
    },
    {
      "cell_type": "code",
      "source": [
        "train_ds = load_dataset(TRAIN_IMAGE_DIR, TRAIN_MASK_DIR).shuffle(200).batch(BATCH_SIZE).prefetch(tf.data.AUTOTUNE)\n",
        "val_ds   = load_dataset(VAL_IMAGE_DIR, VAL_MASK_DIR).batch(BATCH_SIZE).prefetch(tf.data.AUTOTUNE)"
      ],
      "metadata": {
        "id": "la3v56UY6TTQ"
      },
      "execution_count": null,
      "outputs": []
    },
    {
      "cell_type": "code",
      "source": [
        "def build_unet_with_efficientnetb3(input_shape=(256, 256, 3)):\n",
        "    base_model = EfficientNetB3(input_shape=input_shape, include_top=False, weights='imagenet')\n",
        "\n",
        "    skips = [\n",
        "        base_model.get_layer(\"block1a_project_bn\").output,\n",
        "        base_model.get_layer(\"block2a_expand_activation\").output,\n",
        "        base_model.get_layer(\"block3a_expand_activation\").output,\n",
        "        base_model.get_layer(\"block4a_expand_activation\").output,\n",
        "        base_model.get_layer(\"block6a_expand_activation\").output,\n",
        "    ]\n",
        "\n",
        "    encoder_output = base_model.get_layer(\"top_activation\").output\n",
        "    x = encoder_output\n",
        "\n",
        "    def decoder_block(x, skip, filters):\n",
        "        x = layers.Conv2DTranspose(filters, 3, strides=2, padding='same')(x)\n",
        "\n",
        "        if x.shape[1] != skip.shape[1] or x.shape[2] != skip.shape[2]:\n",
        "            skip = layers.UpSampling2D(size=(x.shape[1] // skip.shape[1], x.shape[2] // skip.shape[2]),\n",
        "                                       interpolation='bilinear')(skip)\n",
        "\n",
        "        x = layers.Concatenate()([x, skip])\n",
        "        x = layers.Conv2D(filters, 3, padding='same')(x)\n",
        "        x = layers.BatchNormalization()(x)\n",
        "        x = layers.Activation('relu')(x)\n",
        "        x = layers.Conv2D(filters, 3, padding='same')(x)\n",
        "        x = layers.BatchNormalization()(x)\n",
        "        x = layers.Activation('relu')(x)\n",
        "        x = layers.Dropout(0.3)(x)\n",
        "        return x\n",
        "\n",
        "    x = decoder_block(x, skips[4], 240)\n",
        "    x = decoder_block(x, skips[3], 120)\n",
        "    x = decoder_block(x, skips[2], 72)\n",
        "    x = decoder_block(x, skips[1], 48)\n",
        "    x = decoder_block(x, skips[0], 32)\n",
        "\n",
        "    output = layers.Conv2D(1, 1, padding='same', activation='sigmoid')(x)\n",
        "\n",
        "    return models.Model(inputs=base_model.input, outputs=output)"
      ],
      "metadata": {
        "id": "if9JxVcV7ODp"
      },
      "execution_count": null,
      "outputs": []
    },
    {
      "cell_type": "code",
      "source": [
        "log_dir = \"/content/drive/MyDrive/UMich/PR/EuroPalletSeg/results/logs\"\n",
        "\n",
        "callbacks = [\n",
        "    ModelCheckpoint(\n",
        "        filepath=\"/content/drive/MyDrive/UMich/PR/EuroPalletSeg/results/models/best_model_epoch{epoch:02d}_valacc{val_accuracy:.2f}.h5\",\n",
        "        monitor=\"val_accuracy\",\n",
        "        save_best_only=True,\n",
        "        verbose=1,\n",
        "        mode=\"max\"\n",
        "    ),\n",
        "    ReduceLROnPlateau(monitor=\"val_loss\", factor=0.5, patience=5, verbose=1, min_lr=1e-6),\n",
        "    TensorBoard(\n",
        "        log_dir=log_dir,\n",
        "        histogram_freq=1,\n",
        "        write_graph=True,\n",
        "        write_images=True\n",
        "    ),\n",
        "    CSVLogger(\n",
        "        \"/content/drive/MyDrive/UMich/PR/EuroPalletSeg/results/training_log.csv\",\n",
        "        append=True\n",
        "    )\n",
        "]"
      ],
      "metadata": {
        "id": "0de_fMcY-dxg"
      },
      "execution_count": null,
      "outputs": []
    },
    {
      "cell_type": "code",
      "source": [
        "with tf.device('/GPU:0'):\n",
        "    model = build_unet_with_efficientnetb3()\n",
        "    model.compile(\n",
        "        optimizer=tf.keras.optimizers.Adam(learning_rate=1e-4),\n",
        "        loss=tf.keras.losses.BinaryCrossentropy(),\n",
        "        metrics=[\n",
        "            'accuracy',\n",
        "            tf.keras.metrics.BinaryIoU(target_class_ids=[1], threshold=0.5),\n",
        "            tf.keras.metrics.Precision(),\n",
        "            tf.keras.metrics.Recall()\n",
        "        ]\n",
        "    )\n",
        "\n",
        "    history = model.fit(\n",
        "        train_ds,\n",
        "        validation_data=val_ds,\n",
        "        epochs=100,\n",
        "        callbacks=callbacks\n",
        "    )"
      ],
      "metadata": {
        "colab": {
          "base_uri": "https://localhost:8080/"
        },
        "id": "ANt5Luuf-dfm",
        "outputId": "872b9ccc-a4ef-4e19-9ef6-77352118a8f4"
      },
      "execution_count": null,
      "outputs": [
        {
          "output_type": "stream",
          "name": "stdout",
          "text": [
            "Downloading data from https://storage.googleapis.com/keras-applications/efficientnetb3_notop.h5\n",
            "\u001b[1m43941136/43941136\u001b[0m \u001b[32m━━━━━━━━━━━━━━━━━━━━\u001b[0m\u001b[37m\u001b[0m \u001b[1m3s\u001b[0m 0us/step\n",
            "Epoch 1/100\n",
            "\u001b[1m94/94\u001b[0m \u001b[32m━━━━━━━━━━━━━━━━━━━━\u001b[0m\u001b[37m\u001b[0m \u001b[1m0s\u001b[0m 3s/step - accuracy: 0.7199 - binary_io_u: 0.4012 - loss: 0.5429 - precision: 0.4482 - recall: 0.7707\n",
            "Epoch 1: val_accuracy improved from -inf to 0.72068, saving model to /content/drive/MyDrive/UMich/PR/EuroPalletSeg/results/models/best_model_epoch01_valacc0.72.h5\n"
          ]
        },
        {
          "output_type": "stream",
          "name": "stderr",
          "text": [
            "WARNING:absl:You are saving your model as an HDF5 file via `model.save()` or `keras.saving.save_model(model)`. This file format is considered legacy. We recommend using instead the native Keras format, e.g. `model.save('my_model.keras')` or `keras.saving.save_model(model, 'my_model.keras')`. \n"
          ]
        },
        {
          "output_type": "stream",
          "name": "stdout",
          "text": [
            "\b\b\b\b\b\b\b\b\b\b\b\b\b\b\b\b\b\b\b\b\b\b\b\b\b\b\b\b\b\b\b\b\b\b\b\b\b\b\b\b\b\b\b\b\b\b\b\b\b\b\b\b\b\b\b\b\b\b\b\b\b\b\b\b\b\b\b\b\b\b\b\b\b\b\b\b\b\b\b\b\b\b\b\b\b\b\b\b\b\b\b\b\b\b\b\b\b\b\b\b\b\b\b\b\b\b\b\b\b\b\b\b\b\b\b\b\b\b\b\b\b\b\b\b\b\b\b\b\b\b\r\u001b[1m94/94\u001b[0m \u001b[32m━━━━━━━━━━━━━━━━━━━━\u001b[0m\u001b[37m\u001b[0m \u001b[1m670s\u001b[0m 4s/step - accuracy: 0.7212 - binary_io_u: 0.4031 - loss: 0.5411 - precision: 0.4501 - recall: 0.7718 - val_accuracy: 0.7207 - val_binary_io_u: 0.0000e+00 - val_loss: 0.9109 - val_precision: 0.0000e+00 - val_recall: 0.0000e+00 - learning_rate: 1.0000e-04\n",
            "Epoch 2/100\n",
            "\u001b[1m94/94\u001b[0m \u001b[32m━━━━━━━━━━━━━━━━━━━━\u001b[0m\u001b[37m\u001b[0m \u001b[1m0s\u001b[0m 135ms/step - accuracy: 0.9763 - binary_io_u: 0.9025 - loss: 0.1543 - precision: 0.9401 - recall: 0.9575\n",
            "Epoch 2: val_accuracy improved from 0.72068 to 0.77033, saving model to /content/drive/MyDrive/UMich/PR/EuroPalletSeg/results/models/best_model_epoch02_valacc0.77.h5\n"
          ]
        },
        {
          "output_type": "stream",
          "name": "stderr",
          "text": [
            "WARNING:absl:You are saving your model as an HDF5 file via `model.save()` or `keras.saving.save_model(model)`. This file format is considered legacy. We recommend using instead the native Keras format, e.g. `model.save('my_model.keras')` or `keras.saving.save_model(model, 'my_model.keras')`. \n"
          ]
        },
        {
          "output_type": "stream",
          "name": "stdout",
          "text": [
            "\b\b\b\b\b\b\b\b\b\b\b\b\b\b\b\b\b\b\b\b\b\b\b\b\b\b\b\b\b\b\b\b\b\b\b\b\b\b\b\b\b\b\b\b\b\b\b\b\b\b\b\b\b\b\b\b\b\b\b\b\b\b\b\b\b\b\b\b\b\b\b\b\b\b\b\b\b\b\b\b\b\b\b\b\b\b\b\b\b\b\b\b\b\b\b\b\b\b\b\b\b\b\b\b\b\b\b\b\b\b\b\b\b\b\b\b\b\b\b\b\b\b\b\b\b\b\b\b\b\b\b\b\b\r\u001b[1m94/94\u001b[0m \u001b[32m━━━━━━━━━━━━━━━━━━━━\u001b[0m\u001b[37m\u001b[0m \u001b[1m27s\u001b[0m 281ms/step - accuracy: 0.9763 - binary_io_u: 0.9027 - loss: 0.1540 - precision: 0.9403 - recall: 0.9576 - val_accuracy: 0.7703 - val_binary_io_u: 0.1893 - val_loss: 0.5280 - val_precision: 0.9309 - val_recall: 0.1920 - learning_rate: 1.0000e-04\n",
            "Epoch 3/100\n",
            "\u001b[1m94/94\u001b[0m \u001b[32m━━━━━━━━━━━━━━━━━━━━\u001b[0m\u001b[37m\u001b[0m \u001b[1m0s\u001b[0m 140ms/step - accuracy: 0.9847 - binary_io_u: 0.9357 - loss: 0.1097 - precision: 0.9672 - recall: 0.9664\n",
            "Epoch 3: val_accuracy improved from 0.77033 to 0.89894, saving model to /content/drive/MyDrive/UMich/PR/EuroPalletSeg/results/models/best_model_epoch03_valacc0.90.h5\n"
          ]
        },
        {
          "output_type": "stream",
          "name": "stderr",
          "text": [
            "WARNING:absl:You are saving your model as an HDF5 file via `model.save()` or `keras.saving.save_model(model)`. This file format is considered legacy. We recommend using instead the native Keras format, e.g. `model.save('my_model.keras')` or `keras.saving.save_model(model, 'my_model.keras')`. \n"
          ]
        },
        {
          "output_type": "stream",
          "name": "stdout",
          "text": [
            "\b\b\b\b\b\b\b\b\b\b\b\b\b\b\b\b\b\b\b\b\b\b\b\b\b\b\b\b\b\b\b\b\b\b\b\b\b\b\b\b\b\b\b\b\b\b\b\b\b\b\b\b\b\b\b\b\b\b\b\b\b\b\b\b\b\b\b\b\b\b\b\b\b\b\b\b\b\b\b\b\b\b\b\b\b\b\b\b\b\b\b\b\b\b\b\b\b\b\b\b\b\b\b\b\b\b\b\b\b\b\b\b\b\b\b\b\b\b\b\b\b\b\b\b\b\b\b\b\b\b\b\b\b\r\u001b[1m94/94\u001b[0m \u001b[32m━━━━━━━━━━━━━━━━━━━━\u001b[0m\u001b[37m\u001b[0m \u001b[1m27s\u001b[0m 282ms/step - accuracy: 0.9847 - binary_io_u: 0.9358 - loss: 0.1096 - precision: 0.9672 - recall: 0.9665 - val_accuracy: 0.8989 - val_binary_io_u: 0.7142 - val_loss: 0.2800 - val_precision: 0.7728 - val_recall: 0.9040 - learning_rate: 1.0000e-04\n",
            "Epoch 4/100\n",
            "\u001b[1m94/94\u001b[0m \u001b[32m━━━━━━━━━━━━━━━━━━━━\u001b[0m\u001b[37m\u001b[0m \u001b[1m0s\u001b[0m 135ms/step - accuracy: 0.9865 - binary_io_u: 0.9425 - loss: 0.0958 - precision: 0.9700 - recall: 0.9708\n",
            "Epoch 4: val_accuracy did not improve from 0.89894\n",
            "\u001b[1m94/94\u001b[0m \u001b[32m━━━━━━━━━━━━━━━━━━━━\u001b[0m\u001b[37m\u001b[0m \u001b[1m24s\u001b[0m 255ms/step - accuracy: 0.9865 - binary_io_u: 0.9425 - loss: 0.0957 - precision: 0.9701 - recall: 0.9708 - val_accuracy: 0.8653 - val_binary_io_u: 0.6518 - val_loss: 0.4060 - val_precision: 0.7009 - val_recall: 0.9028 - learning_rate: 1.0000e-04\n",
            "Epoch 5/100\n",
            "\u001b[1m94/94\u001b[0m \u001b[32m━━━━━━━━━━━━━━━━━━━━\u001b[0m\u001b[37m\u001b[0m \u001b[1m0s\u001b[0m 135ms/step - accuracy: 0.9878 - binary_io_u: 0.9476 - loss: 0.0858 - precision: 0.9740 - recall: 0.9722\n",
            "Epoch 5: val_accuracy did not improve from 0.89894\n",
            "\u001b[1m94/94\u001b[0m \u001b[32m━━━━━━━━━━━━━━━━━━━━\u001b[0m\u001b[37m\u001b[0m \u001b[1m24s\u001b[0m 255ms/step - accuracy: 0.9878 - binary_io_u: 0.9477 - loss: 0.0858 - precision: 0.9741 - recall: 0.9722 - val_accuracy: 0.7917 - val_binary_io_u: 0.5709 - val_loss: 0.7729 - val_precision: 0.5735 - val_recall: 0.9922 - learning_rate: 1.0000e-04\n",
            "Epoch 6/100\n",
            "\u001b[1m94/94\u001b[0m \u001b[32m━━━━━━━━━━━━━━━━━━━━\u001b[0m\u001b[37m\u001b[0m \u001b[1m0s\u001b[0m 135ms/step - accuracy: 0.9885 - binary_io_u: 0.9509 - loss: 0.0785 - precision: 0.9751 - recall: 0.9746\n",
            "Epoch 6: val_accuracy did not improve from 0.89894\n",
            "\u001b[1m94/94\u001b[0m \u001b[32m━━━━━━━━━━━━━━━━━━━━\u001b[0m\u001b[37m\u001b[0m \u001b[1m24s\u001b[0m 252ms/step - accuracy: 0.9885 - binary_io_u: 0.9509 - loss: 0.0784 - precision: 0.9751 - recall: 0.9746 - val_accuracy: 0.8892 - val_binary_io_u: 0.7108 - val_loss: 0.3708 - val_precision: 0.7241 - val_recall: 0.9748 - learning_rate: 1.0000e-04\n",
            "Epoch 7/100\n",
            "\u001b[1m94/94\u001b[0m \u001b[32m━━━━━━━━━━━━━━━━━━━━\u001b[0m\u001b[37m\u001b[0m \u001b[1m0s\u001b[0m 135ms/step - accuracy: 0.9890 - binary_io_u: 0.9530 - loss: 0.0727 - precision: 0.9755 - recall: 0.9764\n",
            "Epoch 7: val_accuracy improved from 0.89894 to 0.92724, saving model to /content/drive/MyDrive/UMich/PR/EuroPalletSeg/results/models/best_model_epoch07_valacc0.93.h5\n"
          ]
        },
        {
          "output_type": "stream",
          "name": "stderr",
          "text": [
            "WARNING:absl:You are saving your model as an HDF5 file via `model.save()` or `keras.saving.save_model(model)`. This file format is considered legacy. We recommend using instead the native Keras format, e.g. `model.save('my_model.keras')` or `keras.saving.save_model(model, 'my_model.keras')`. \n"
          ]
        },
        {
          "output_type": "stream",
          "name": "stdout",
          "text": [
            "\b\b\b\b\b\b\b\b\b\b\b\b\b\b\b\b\b\b\b\b\b\b\b\b\b\b\b\b\b\b\b\b\b\b\b\b\b\b\b\b\b\b\b\b\b\b\b\b\b\b\b\b\b\b\b\b\b\b\b\b\b\b\b\b\b\b\b\b\b\b\b\b\b\b\b\b\b\b\b\b\b\b\b\b\b\b\b\b\b\b\b\b\b\b\b\b\b\b\b\b\b\b\b\b\b\b\b\b\b\b\b\b\b\b\b\b\b\b\b\b\b\b\b\b\b\b\b\b\b\b\b\b\b\r\u001b[1m94/94\u001b[0m \u001b[32m━━━━━━━━━━━━━━━━━━━━\u001b[0m\u001b[37m\u001b[0m \u001b[1m26s\u001b[0m 276ms/step - accuracy: 0.9890 - binary_io_u: 0.9531 - loss: 0.0726 - precision: 0.9755 - recall: 0.9764 - val_accuracy: 0.9272 - val_binary_io_u: 0.7898 - val_loss: 0.2810 - val_precision: 0.8035 - val_recall: 0.9789 - learning_rate: 1.0000e-04\n",
            "Epoch 8/100\n",
            "\u001b[1m94/94\u001b[0m \u001b[32m━━━━━━━━━━━━━━━━━━━━\u001b[0m\u001b[37m\u001b[0m \u001b[1m0s\u001b[0m 135ms/step - accuracy: 0.9898 - binary_io_u: 0.9562 - loss: 0.0669 - precision: 0.9767 - recall: 0.9785\n",
            "Epoch 8: val_accuracy improved from 0.92724 to 0.96656, saving model to /content/drive/MyDrive/UMich/PR/EuroPalletSeg/results/models/best_model_epoch08_valacc0.97.h5\n"
          ]
        },
        {
          "output_type": "stream",
          "name": "stderr",
          "text": [
            "WARNING:absl:You are saving your model as an HDF5 file via `model.save()` or `keras.saving.save_model(model)`. This file format is considered legacy. We recommend using instead the native Keras format, e.g. `model.save('my_model.keras')` or `keras.saving.save_model(model, 'my_model.keras')`. \n"
          ]
        },
        {
          "output_type": "stream",
          "name": "stdout",
          "text": [
            "\b\b\b\b\b\b\b\b\b\b\b\b\b\b\b\b\b\b\b\b\b\b\b\b\b\b\b\b\b\b\b\b\b\b\b\b\b\b\b\b\b\b\b\b\b\b\b\b\b\b\b\b\b\b\b\b\b\b\b\b\b\b\b\b\b\b\b\b\b\b\b\b\b\b\b\b\b\b\b\b\b\b\b\b\b\b\b\b\b\b\b\b\b\b\b\b\b\b\b\b\b\b\b\b\b\b\b\b\b\b\b\b\b\b\b\b\b\b\b\b\b\b\b\b\b\b\b\b\b\b\b\b\b\r\u001b[1m94/94\u001b[0m \u001b[32m━━━━━━━━━━━━━━━━━━━━\u001b[0m\u001b[37m\u001b[0m \u001b[1m26s\u001b[0m 275ms/step - accuracy: 0.9898 - binary_io_u: 0.9562 - loss: 0.0668 - precision: 0.9767 - recall: 0.9785 - val_accuracy: 0.9666 - val_binary_io_u: 0.8896 - val_loss: 0.1153 - val_precision: 0.9198 - val_recall: 0.9644 - learning_rate: 1.0000e-04\n",
            "Epoch 9/100\n",
            "\u001b[1m94/94\u001b[0m \u001b[32m━━━━━━━━━━━━━━━━━━━━\u001b[0m\u001b[37m\u001b[0m \u001b[1m0s\u001b[0m 135ms/step - accuracy: 0.9902 - binary_io_u: 0.9577 - loss: 0.0626 - precision: 0.9781 - recall: 0.9788\n",
            "Epoch 9: val_accuracy improved from 0.96656 to 0.97931, saving model to /content/drive/MyDrive/UMich/PR/EuroPalletSeg/results/models/best_model_epoch09_valacc0.98.h5\n"
          ]
        },
        {
          "output_type": "stream",
          "name": "stderr",
          "text": [
            "WARNING:absl:You are saving your model as an HDF5 file via `model.save()` or `keras.saving.save_model(model)`. This file format is considered legacy. We recommend using instead the native Keras format, e.g. `model.save('my_model.keras')` or `keras.saving.save_model(model, 'my_model.keras')`. \n"
          ]
        },
        {
          "output_type": "stream",
          "name": "stdout",
          "text": [
            "\b\b\b\b\b\b\b\b\b\b\b\b\b\b\b\b\b\b\b\b\b\b\b\b\b\b\b\b\b\b\b\b\b\b\b\b\b\b\b\b\b\b\b\b\b\b\b\b\b\b\b\b\b\b\b\b\b\b\b\b\b\b\b\b\b\b\b\b\b\b\b\b\b\b\b\b\b\b\b\b\b\b\b\b\b\b\b\b\b\b\b\b\b\b\b\b\b\b\b\b\b\b\b\b\b\b\b\b\b\b\b\b\b\b\b\b\b\b\b\b\b\b\b\b\b\b\b\b\b\b\b\b\b\r\u001b[1m94/94\u001b[0m \u001b[32m━━━━━━━━━━━━━━━━━━━━\u001b[0m\u001b[37m\u001b[0m \u001b[1m26s\u001b[0m 276ms/step - accuracy: 0.9902 - binary_io_u: 0.9578 - loss: 0.0626 - precision: 0.9781 - recall: 0.9788 - val_accuracy: 0.9793 - val_binary_io_u: 0.9293 - val_loss: 0.0864 - val_precision: 0.9535 - val_recall: 0.9734 - learning_rate: 1.0000e-04\n",
            "Epoch 10/100\n",
            "\u001b[1m94/94\u001b[0m \u001b[32m━━━━━━━━━━━━━━━━━━━━\u001b[0m\u001b[37m\u001b[0m \u001b[1m0s\u001b[0m 135ms/step - accuracy: 0.9906 - binary_io_u: 0.9597 - loss: 0.0586 - precision: 0.9781 - recall: 0.9808\n",
            "Epoch 10: val_accuracy improved from 0.97931 to 0.98366, saving model to /content/drive/MyDrive/UMich/PR/EuroPalletSeg/results/models/best_model_epoch10_valacc0.98.h5\n"
          ]
        },
        {
          "output_type": "stream",
          "name": "stderr",
          "text": [
            "WARNING:absl:You are saving your model as an HDF5 file via `model.save()` or `keras.saving.save_model(model)`. This file format is considered legacy. We recommend using instead the native Keras format, e.g. `model.save('my_model.keras')` or `keras.saving.save_model(model, 'my_model.keras')`. \n"
          ]
        },
        {
          "output_type": "stream",
          "name": "stdout",
          "text": [
            "\b\b\b\b\b\b\b\b\b\b\b\b\b\b\b\b\b\b\b\b\b\b\b\b\b\b\b\b\b\b\b\b\b\b\b\b\b\b\b\b\b\b\b\b\b\b\b\b\b\b\b\b\b\b\b\b\b\b\b\b\b\b\b\b\b\b\b\b\b\b\b\b\b\b\b\b\b\b\b\b\b\b\b\b\b\b\b\b\b\b\b\b\b\b\b\b\b\b\b\b\b\b\b\b\b\b\b\b\b\b\b\b\b\b\b\b\b\b\b\b\b\b\b\b\b\b\b\b\b\b\b\b\b\r\u001b[1m94/94\u001b[0m \u001b[32m━━━━━━━━━━━━━━━━━━━━\u001b[0m\u001b[37m\u001b[0m \u001b[1m26s\u001b[0m 274ms/step - accuracy: 0.9906 - binary_io_u: 0.9597 - loss: 0.0585 - precision: 0.9781 - recall: 0.9808 - val_accuracy: 0.9837 - val_binary_io_u: 0.9435 - val_loss: 0.0820 - val_precision: 0.9646 - val_recall: 0.9773 - learning_rate: 1.0000e-04\n",
            "Epoch 11/100\n",
            "\u001b[1m94/94\u001b[0m \u001b[32m━━━━━━━━━━━━━━━━━━━━\u001b[0m\u001b[37m\u001b[0m \u001b[1m0s\u001b[0m 134ms/step - accuracy: 0.9911 - binary_io_u: 0.9616 - loss: 0.0545 - precision: 0.9795 - recall: 0.9813\n",
            "Epoch 11: val_accuracy did not improve from 0.98366\n",
            "\u001b[1m94/94\u001b[0m \u001b[32m━━━━━━━━━━━━━━━━━━━━\u001b[0m\u001b[37m\u001b[0m \u001b[1m24s\u001b[0m 252ms/step - accuracy: 0.9911 - binary_io_u: 0.9616 - loss: 0.0544 - precision: 0.9795 - recall: 0.9813 - val_accuracy: 0.9700 - val_binary_io_u: 0.8971 - val_loss: 0.1332 - val_precision: 0.9557 - val_recall: 0.9360 - learning_rate: 1.0000e-04\n",
            "Epoch 12/100\n",
            "\u001b[1m94/94\u001b[0m \u001b[32m━━━━━━━━━━━━━━━━━━━━\u001b[0m\u001b[37m\u001b[0m \u001b[1m0s\u001b[0m 134ms/step - accuracy: 0.9913 - binary_io_u: 0.9629 - loss: 0.0514 - precision: 0.9794 - recall: 0.9828\n",
            "Epoch 12: val_accuracy did not improve from 0.98366\n",
            "\u001b[1m94/94\u001b[0m \u001b[32m━━━━━━━━━━━━━━━━━━━━\u001b[0m\u001b[37m\u001b[0m \u001b[1m24s\u001b[0m 251ms/step - accuracy: 0.9914 - binary_io_u: 0.9630 - loss: 0.0514 - precision: 0.9795 - recall: 0.9828 - val_accuracy: 0.9188 - val_binary_io_u: 0.7170 - val_loss: 0.2414 - val_precision: 0.9639 - val_recall: 0.7368 - learning_rate: 1.0000e-04\n",
            "Epoch 13/100\n",
            "\u001b[1m94/94\u001b[0m \u001b[32m━━━━━━━━━━━━━━━━━━━━\u001b[0m\u001b[37m\u001b[0m \u001b[1m0s\u001b[0m 135ms/step - accuracy: 0.9914 - binary_io_u: 0.9632 - loss: 0.0489 - precision: 0.9800 - recall: 0.9825\n",
            "Epoch 13: val_accuracy did not improve from 0.98366\n",
            "\u001b[1m94/94\u001b[0m \u001b[32m━━━━━━━━━━━━━━━━━━━━\u001b[0m\u001b[37m\u001b[0m \u001b[1m24s\u001b[0m 251ms/step - accuracy: 0.9914 - binary_io_u: 0.9632 - loss: 0.0489 - precision: 0.9800 - recall: 0.9826 - val_accuracy: 0.9143 - val_binary_io_u: 0.7048 - val_loss: 0.2823 - val_precision: 0.9492 - val_recall: 0.7325 - learning_rate: 1.0000e-04\n",
            "Epoch 14/100\n",
            "\u001b[1m94/94\u001b[0m \u001b[32m━━━━━━━━━━━━━━━━━━━━\u001b[0m\u001b[37m\u001b[0m \u001b[1m0s\u001b[0m 135ms/step - accuracy: 0.9915 - binary_io_u: 0.9638 - loss: 0.0470 - precision: 0.9798 - recall: 0.9833\n",
            "Epoch 14: val_accuracy did not improve from 0.98366\n",
            "\u001b[1m94/94\u001b[0m \u001b[32m━━━━━━━━━━━━━━━━━━━━\u001b[0m\u001b[37m\u001b[0m \u001b[1m24s\u001b[0m 250ms/step - accuracy: 0.9915 - binary_io_u: 0.9638 - loss: 0.0469 - precision: 0.9799 - recall: 0.9833 - val_accuracy: 0.9756 - val_binary_io_u: 0.9156 - val_loss: 0.1216 - val_precision: 0.9660 - val_recall: 0.9461 - learning_rate: 1.0000e-04\n",
            "Epoch 15/100\n",
            "\u001b[1m94/94\u001b[0m \u001b[32m━━━━━━━━━━━━━━━━━━━━\u001b[0m\u001b[37m\u001b[0m \u001b[1m0s\u001b[0m 135ms/step - accuracy: 0.9920 - binary_io_u: 0.9658 - loss: 0.0437 - precision: 0.9807 - recall: 0.9844\n",
            "Epoch 15: val_accuracy did not improve from 0.98366\n",
            "\n",
            "Epoch 15: ReduceLROnPlateau reducing learning rate to 4.999999873689376e-05.\n",
            "\u001b[1m94/94\u001b[0m \u001b[32m━━━━━━━━━━━━━━━━━━━━\u001b[0m\u001b[37m\u001b[0m \u001b[1m24s\u001b[0m 251ms/step - accuracy: 0.9920 - binary_io_u: 0.9658 - loss: 0.0437 - precision: 0.9808 - recall: 0.9845 - val_accuracy: 0.9699 - val_binary_io_u: 0.8957 - val_loss: 0.1208 - val_precision: 0.9662 - val_recall: 0.9247 - learning_rate: 1.0000e-04\n",
            "Epoch 16/100\n",
            "\u001b[1m94/94\u001b[0m \u001b[32m━━━━━━━━━━━━━━━━━━━━\u001b[0m\u001b[37m\u001b[0m \u001b[1m0s\u001b[0m 135ms/step - accuracy: 0.9923 - binary_io_u: 0.9668 - loss: 0.0415 - precision: 0.9813 - recall: 0.9849\n",
            "Epoch 16: val_accuracy did not improve from 0.98366\n",
            "\u001b[1m94/94\u001b[0m \u001b[32m━━━━━━━━━━━━━━━━━━━━\u001b[0m\u001b[37m\u001b[0m \u001b[1m24s\u001b[0m 252ms/step - accuracy: 0.9923 - binary_io_u: 0.9668 - loss: 0.0415 - precision: 0.9813 - recall: 0.9849 - val_accuracy: 0.9485 - val_binary_io_u: 0.8259 - val_loss: 0.1752 - val_precision: 0.9364 - val_recall: 0.8749 - learning_rate: 5.0000e-05\n",
            "Epoch 17/100\n",
            "\u001b[1m94/94\u001b[0m \u001b[32m━━━━━━━━━━━━━━━━━━━━\u001b[0m\u001b[37m\u001b[0m \u001b[1m0s\u001b[0m 134ms/step - accuracy: 0.9923 - binary_io_u: 0.9668 - loss: 0.0408 - precision: 0.9813 - recall: 0.9850\n",
            "Epoch 17: val_accuracy did not improve from 0.98366\n",
            "\u001b[1m94/94\u001b[0m \u001b[32m━━━━━━━━━━━━━━━━━━━━\u001b[0m\u001b[37m\u001b[0m \u001b[1m24s\u001b[0m 252ms/step - accuracy: 0.9923 - binary_io_u: 0.9669 - loss: 0.0408 - precision: 0.9813 - recall: 0.9850 - val_accuracy: 0.9413 - val_binary_io_u: 0.7997 - val_loss: 0.1874 - val_precision: 0.9450 - val_recall: 0.8387 - learning_rate: 5.0000e-05\n",
            "Epoch 18/100\n",
            "\u001b[1m94/94\u001b[0m \u001b[32m━━━━━━━━━━━━━━━━━━━━\u001b[0m\u001b[37m\u001b[0m \u001b[1m0s\u001b[0m 134ms/step - accuracy: 0.9924 - binary_io_u: 0.9673 - loss: 0.0398 - precision: 0.9812 - recall: 0.9856\n",
            "Epoch 18: val_accuracy did not improve from 0.98366\n",
            "\u001b[1m94/94\u001b[0m \u001b[32m━━━━━━━━━━━━━━━━━━━━\u001b[0m\u001b[37m\u001b[0m \u001b[1m24s\u001b[0m 251ms/step - accuracy: 0.9924 - binary_io_u: 0.9673 - loss: 0.0398 - precision: 0.9812 - recall: 0.9856 - val_accuracy: 0.9639 - val_binary_io_u: 0.8745 - val_loss: 0.1347 - val_precision: 0.9682 - val_recall: 0.9004 - learning_rate: 5.0000e-05\n",
            "Epoch 19/100\n",
            "\u001b[1m94/94\u001b[0m \u001b[32m━━━━━━━━━━━━━━━━━━━━\u001b[0m\u001b[37m\u001b[0m \u001b[1m0s\u001b[0m 135ms/step - accuracy: 0.9927 - binary_io_u: 0.9686 - loss: 0.0380 - precision: 0.9822 - recall: 0.9860\n",
            "Epoch 19: val_accuracy did not improve from 0.98366\n",
            "\u001b[1m94/94\u001b[0m \u001b[32m━━━━━━━━━━━━━━━━━━━━\u001b[0m\u001b[37m\u001b[0m \u001b[1m24s\u001b[0m 251ms/step - accuracy: 0.9927 - binary_io_u: 0.9687 - loss: 0.0380 - precision: 0.9822 - recall: 0.9860 - val_accuracy: 0.9811 - val_binary_io_u: 0.9346 - val_loss: 0.0685 - val_precision: 0.9679 - val_recall: 0.9645 - learning_rate: 5.0000e-05\n",
            "Epoch 20/100\n",
            "\u001b[1m94/94\u001b[0m \u001b[32m━━━━━━━━━━━━━━━━━━━━\u001b[0m\u001b[37m\u001b[0m \u001b[1m0s\u001b[0m 135ms/step - accuracy: 0.9928 - binary_io_u: 0.9690 - loss: 0.0370 - precision: 0.9821 - recall: 0.9864\n",
            "Epoch 20: val_accuracy did not improve from 0.98366\n",
            "\u001b[1m94/94\u001b[0m \u001b[32m━━━━━━━━━━━━━━━━━━━━\u001b[0m\u001b[37m\u001b[0m \u001b[1m24s\u001b[0m 251ms/step - accuracy: 0.9928 - binary_io_u: 0.9691 - loss: 0.0370 - precision: 0.9821 - recall: 0.9865 - val_accuracy: 0.9127 - val_binary_io_u: 0.7134 - val_loss: 0.2896 - val_precision: 0.8961 - val_recall: 0.7777 - learning_rate: 5.0000e-05\n",
            "Epoch 21/100\n",
            "\u001b[1m94/94\u001b[0m \u001b[32m━━━━━━━━━━━━━━━━━━━━\u001b[0m\u001b[37m\u001b[0m \u001b[1m0s\u001b[0m 135ms/step - accuracy: 0.9930 - binary_io_u: 0.9700 - loss: 0.0358 - precision: 0.9830 - recall: 0.9865\n",
            "Epoch 21: val_accuracy did not improve from 0.98366\n",
            "\u001b[1m94/94\u001b[0m \u001b[32m━━━━━━━━━━━━━━━━━━━━\u001b[0m\u001b[37m\u001b[0m \u001b[1m24s\u001b[0m 253ms/step - accuracy: 0.9930 - binary_io_u: 0.9700 - loss: 0.0358 - precision: 0.9830 - recall: 0.9866 - val_accuracy: 0.9300 - val_binary_io_u: 0.7650 - val_loss: 0.2120 - val_precision: 0.9243 - val_recall: 0.8161 - learning_rate: 5.0000e-05\n",
            "Epoch 22/100\n",
            "\u001b[1m94/94\u001b[0m \u001b[32m━━━━━━━━━━━━━━━━━━━━\u001b[0m\u001b[37m\u001b[0m \u001b[1m0s\u001b[0m 134ms/step - accuracy: 0.9932 - binary_io_u: 0.9707 - loss: 0.0347 - precision: 0.9832 - recall: 0.9871\n",
            "Epoch 22: val_accuracy did not improve from 0.98366\n",
            "\u001b[1m94/94\u001b[0m \u001b[32m━━━━━━━━━━━━━━━━━━━━\u001b[0m\u001b[37m\u001b[0m \u001b[1m24s\u001b[0m 251ms/step - accuracy: 0.9932 - binary_io_u: 0.9708 - loss: 0.0347 - precision: 0.9832 - recall: 0.9871 - val_accuracy: 0.9488 - val_binary_io_u: 0.8215 - val_loss: 0.1805 - val_precision: 0.9692 - val_recall: 0.8435 - learning_rate: 5.0000e-05\n",
            "Epoch 23/100\n",
            "\u001b[1m94/94\u001b[0m \u001b[32m━━━━━━━━━━━━━━━━━━━━\u001b[0m\u001b[37m\u001b[0m \u001b[1m0s\u001b[0m 134ms/step - accuracy: 0.9933 - binary_io_u: 0.9712 - loss: 0.0337 - precision: 0.9833 - recall: 0.9875\n",
            "Epoch 23: val_accuracy did not improve from 0.98366\n",
            "\u001b[1m94/94\u001b[0m \u001b[32m━━━━━━━━━━━━━━━━━━━━\u001b[0m\u001b[37m\u001b[0m \u001b[1m24s\u001b[0m 251ms/step - accuracy: 0.9933 - binary_io_u: 0.9712 - loss: 0.0337 - precision: 0.9833 - recall: 0.9875 - val_accuracy: 0.9634 - val_binary_io_u: 0.8731 - val_loss: 0.1355 - val_precision: 0.9666 - val_recall: 0.9002 - learning_rate: 5.0000e-05\n",
            "Epoch 24/100\n",
            "\u001b[1m94/94\u001b[0m \u001b[32m━━━━━━━━━━━━━━━━━━━━\u001b[0m\u001b[37m\u001b[0m \u001b[1m0s\u001b[0m 135ms/step - accuracy: 0.9935 - binary_io_u: 0.9718 - loss: 0.0327 - precision: 0.9834 - recall: 0.9880\n",
            "Epoch 24: val_accuracy did not improve from 0.98366\n",
            "\n",
            "Epoch 24: ReduceLROnPlateau reducing learning rate to 2.499999936844688e-05.\n",
            "\u001b[1m94/94\u001b[0m \u001b[32m━━━━━━━━━━━━━━━━━━━━\u001b[0m\u001b[37m\u001b[0m \u001b[1m24s\u001b[0m 251ms/step - accuracy: 0.9935 - binary_io_u: 0.9718 - loss: 0.0327 - precision: 0.9834 - recall: 0.9880 - val_accuracy: 0.9417 - val_binary_io_u: 0.8038 - val_loss: 0.1965 - val_precision: 0.9297 - val_recall: 0.8558 - learning_rate: 5.0000e-05\n",
            "Epoch 25/100\n",
            "\u001b[1m94/94\u001b[0m \u001b[32m━━━━━━━━━━━━━━━━━━━━\u001b[0m\u001b[37m\u001b[0m \u001b[1m0s\u001b[0m 135ms/step - accuracy: 0.9935 - binary_io_u: 0.9717 - loss: 0.0322 - precision: 0.9834 - recall: 0.9879\n",
            "Epoch 25: val_accuracy did not improve from 0.98366\n",
            "\u001b[1m94/94\u001b[0m \u001b[32m━━━━━━━━━━━━━━━━━━━━\u001b[0m\u001b[37m\u001b[0m \u001b[1m24s\u001b[0m 252ms/step - accuracy: 0.9935 - binary_io_u: 0.9718 - loss: 0.0322 - precision: 0.9834 - recall: 0.9879 - val_accuracy: 0.9768 - val_binary_io_u: 0.9196 - val_loss: 0.0892 - val_precision: 0.9679 - val_recall: 0.9485 - learning_rate: 2.5000e-05\n",
            "Epoch 26/100\n",
            "\u001b[1m94/94\u001b[0m \u001b[32m━━━━━━━━━━━━━━━━━━━━\u001b[0m\u001b[37m\u001b[0m \u001b[1m0s\u001b[0m 134ms/step - accuracy: 0.9936 - binary_io_u: 0.9724 - loss: 0.0314 - precision: 0.9838 - recall: 0.9882\n",
            "Epoch 26: val_accuracy improved from 0.98366 to 0.98774, saving model to /content/drive/MyDrive/UMich/PR/EuroPalletSeg/results/models/best_model_epoch26_valacc0.99.h5\n"
          ]
        },
        {
          "output_type": "stream",
          "name": "stderr",
          "text": [
            "WARNING:absl:You are saving your model as an HDF5 file via `model.save()` or `keras.saving.save_model(model)`. This file format is considered legacy. We recommend using instead the native Keras format, e.g. `model.save('my_model.keras')` or `keras.saving.save_model(model, 'my_model.keras')`. \n"
          ]
        },
        {
          "output_type": "stream",
          "name": "stdout",
          "text": [
            "\b\b\b\b\b\b\b\b\b\b\b\b\b\b\b\b\b\b\b\b\b\b\b\b\b\b\b\b\b\b\b\b\b\b\b\b\b\b\b\b\b\b\b\b\b\b\b\b\b\b\b\b\b\b\b\b\b\b\b\b\b\b\b\b\b\b\b\b\b\b\b\b\b\b\b\b\b\b\b\b\b\b\b\b\b\b\b\b\b\b\b\b\b\b\b\b\b\b\b\b\b\b\b\b\b\b\b\b\b\b\b\b\b\b\b\b\b\b\b\b\b\b\b\b\b\b\b\b\b\b\b\b\b\r\u001b[1m94/94\u001b[0m \u001b[32m━━━━━━━━━━━━━━━━━━━━\u001b[0m\u001b[37m\u001b[0m \u001b[1m26s\u001b[0m 274ms/step - accuracy: 0.9936 - binary_io_u: 0.9724 - loss: 0.0314 - precision: 0.9838 - recall: 0.9882 - val_accuracy: 0.9877 - val_binary_io_u: 0.9569 - val_loss: 0.0500 - val_precision: 0.9808 - val_recall: 0.9752 - learning_rate: 2.5000e-05\n",
            "Epoch 27/100\n",
            "\u001b[1m94/94\u001b[0m \u001b[32m━━━━━━━━━━━━━━━━━━━━\u001b[0m\u001b[37m\u001b[0m \u001b[1m0s\u001b[0m 135ms/step - accuracy: 0.9937 - binary_io_u: 0.9729 - loss: 0.0309 - precision: 0.9839 - recall: 0.9886\n",
            "Epoch 27: val_accuracy improved from 0.98774 to 0.98774, saving model to /content/drive/MyDrive/UMich/PR/EuroPalletSeg/results/models/best_model_epoch27_valacc0.99.h5\n"
          ]
        },
        {
          "output_type": "stream",
          "name": "stderr",
          "text": [
            "WARNING:absl:You are saving your model as an HDF5 file via `model.save()` or `keras.saving.save_model(model)`. This file format is considered legacy. We recommend using instead the native Keras format, e.g. `model.save('my_model.keras')` or `keras.saving.save_model(model, 'my_model.keras')`. \n"
          ]
        },
        {
          "output_type": "stream",
          "name": "stdout",
          "text": [
            "\b\b\b\b\b\b\b\b\b\b\b\b\b\b\b\b\b\b\b\b\b\b\b\b\b\b\b\b\b\b\b\b\b\b\b\b\b\b\b\b\b\b\b\b\b\b\b\b\b\b\b\b\b\b\b\b\b\b\b\b\b\b\b\b\b\b\b\b\b\b\b\b\b\b\b\b\b\b\b\b\b\b\b\b\b\b\b\b\b\b\b\b\b\b\b\b\b\b\b\b\b\b\b\b\b\b\b\b\b\b\b\b\b\b\b\b\b\b\b\b\b\b\b\b\b\b\b\b\b\b\b\b\b\r\u001b[1m94/94\u001b[0m \u001b[32m━━━━━━━━━━━━━━━━━━━━\u001b[0m\u001b[37m\u001b[0m \u001b[1m27s\u001b[0m 281ms/step - accuracy: 0.9937 - binary_io_u: 0.9729 - loss: 0.0308 - precision: 0.9839 - recall: 0.9886 - val_accuracy: 0.9877 - val_binary_io_u: 0.9570 - val_loss: 0.0491 - val_precision: 0.9803 - val_recall: 0.9757 - learning_rate: 2.5000e-05\n",
            "Epoch 28/100\n",
            "\u001b[1m94/94\u001b[0m \u001b[32m━━━━━━━━━━━━━━━━━━━━\u001b[0m\u001b[37m\u001b[0m \u001b[1m0s\u001b[0m 134ms/step - accuracy: 0.9936 - binary_io_u: 0.9725 - loss: 0.0306 - precision: 0.9837 - recall: 0.9884\n",
            "Epoch 28: val_accuracy improved from 0.98774 to 0.98787, saving model to /content/drive/MyDrive/UMich/PR/EuroPalletSeg/results/models/best_model_epoch28_valacc0.99.h5\n"
          ]
        },
        {
          "output_type": "stream",
          "name": "stderr",
          "text": [
            "WARNING:absl:You are saving your model as an HDF5 file via `model.save()` or `keras.saving.save_model(model)`. This file format is considered legacy. We recommend using instead the native Keras format, e.g. `model.save('my_model.keras')` or `keras.saving.save_model(model, 'my_model.keras')`. \n"
          ]
        },
        {
          "output_type": "stream",
          "name": "stdout",
          "text": [
            "\b\b\b\b\b\b\b\b\b\b\b\b\b\b\b\b\b\b\b\b\b\b\b\b\b\b\b\b\b\b\b\b\b\b\b\b\b\b\b\b\b\b\b\b\b\b\b\b\b\b\b\b\b\b\b\b\b\b\b\b\b\b\b\b\b\b\b\b\b\b\b\b\b\b\b\b\b\b\b\b\b\b\b\b\b\b\b\b\b\b\b\b\b\b\b\b\b\b\b\b\b\b\b\b\b\b\b\b\b\b\b\b\b\b\b\b\b\b\b\b\b\b\b\b\b\b\b\b\b\b\b\b\b\r\u001b[1m94/94\u001b[0m \u001b[32m━━━━━━━━━━━━━━━━━━━━\u001b[0m\u001b[37m\u001b[0m \u001b[1m26s\u001b[0m 273ms/step - accuracy: 0.9936 - binary_io_u: 0.9725 - loss: 0.0306 - precision: 0.9837 - recall: 0.9884 - val_accuracy: 0.9879 - val_binary_io_u: 0.9573 - val_loss: 0.0473 - val_precision: 0.9828 - val_recall: 0.9736 - learning_rate: 2.5000e-05\n",
            "Epoch 29/100\n",
            "\u001b[1m94/94\u001b[0m \u001b[32m━━━━━━━━━━━━━━━━━━━━\u001b[0m\u001b[37m\u001b[0m \u001b[1m0s\u001b[0m 135ms/step - accuracy: 0.9938 - binary_io_u: 0.9734 - loss: 0.0298 - precision: 0.9838 - recall: 0.9893\n",
            "Epoch 29: val_accuracy did not improve from 0.98787\n",
            "\u001b[1m94/94\u001b[0m \u001b[32m━━━━━━━━━━━━━━━━━━━━\u001b[0m\u001b[37m\u001b[0m \u001b[1m24s\u001b[0m 252ms/step - accuracy: 0.9938 - binary_io_u: 0.9734 - loss: 0.0298 - precision: 0.9838 - recall: 0.9893 - val_accuracy: 0.9875 - val_binary_io_u: 0.9561 - val_loss: 0.0485 - val_precision: 0.9818 - val_recall: 0.9733 - learning_rate: 2.5000e-05\n",
            "Epoch 30/100\n",
            "\u001b[1m94/94\u001b[0m \u001b[32m━━━━━━━━━━━━━━━━━━━━\u001b[0m\u001b[37m\u001b[0m \u001b[1m0s\u001b[0m 135ms/step - accuracy: 0.9938 - binary_io_u: 0.9734 - loss: 0.0296 - precision: 0.9843 - recall: 0.9888\n",
            "Epoch 30: val_accuracy did not improve from 0.98787\n",
            "\u001b[1m94/94\u001b[0m \u001b[32m━━━━━━━━━━━━━━━━━━━━\u001b[0m\u001b[37m\u001b[0m \u001b[1m25s\u001b[0m 253ms/step - accuracy: 0.9938 - binary_io_u: 0.9735 - loss: 0.0296 - precision: 0.9843 - recall: 0.9888 - val_accuracy: 0.9878 - val_binary_io_u: 0.9571 - val_loss: 0.0480 - val_precision: 0.9828 - val_recall: 0.9734 - learning_rate: 2.5000e-05\n",
            "Epoch 31/100\n",
            "\u001b[1m94/94\u001b[0m \u001b[32m━━━━━━━━━━━━━━━━━━━━\u001b[0m\u001b[37m\u001b[0m \u001b[1m0s\u001b[0m 135ms/step - accuracy: 0.9939 - binary_io_u: 0.9738 - loss: 0.0290 - precision: 0.9840 - recall: 0.9895\n",
            "Epoch 31: val_accuracy improved from 0.98787 to 0.98814, saving model to /content/drive/MyDrive/UMich/PR/EuroPalletSeg/results/models/best_model_epoch31_valacc0.99.h5\n"
          ]
        },
        {
          "output_type": "stream",
          "name": "stderr",
          "text": [
            "WARNING:absl:You are saving your model as an HDF5 file via `model.save()` or `keras.saving.save_model(model)`. This file format is considered legacy. We recommend using instead the native Keras format, e.g. `model.save('my_model.keras')` or `keras.saving.save_model(model, 'my_model.keras')`. \n"
          ]
        },
        {
          "output_type": "stream",
          "name": "stdout",
          "text": [
            "\b\b\b\b\b\b\b\b\b\b\b\b\b\b\b\b\b\b\b\b\b\b\b\b\b\b\b\b\b\b\b\b\b\b\b\b\b\b\b\b\b\b\b\b\b\b\b\b\b\b\b\b\b\b\b\b\b\b\b\b\b\b\b\b\b\b\b\b\b\b\b\b\b\b\b\b\b\b\b\b\b\b\b\b\b\b\b\b\b\b\b\b\b\b\b\b\b\b\b\b\b\b\b\b\b\b\b\b\b\b\b\b\b\b\b\b\b\b\b\b\b\b\b\b\b\b\b\b\b\b\b\b\b\r\u001b[1m94/94\u001b[0m \u001b[32m━━━━━━━━━━━━━━━━━━━━\u001b[0m\u001b[37m\u001b[0m \u001b[1m26s\u001b[0m 277ms/step - accuracy: 0.9939 - binary_io_u: 0.9738 - loss: 0.0290 - precision: 0.9840 - recall: 0.9895 - val_accuracy: 0.9881 - val_binary_io_u: 0.9583 - val_loss: 0.0473 - val_precision: 0.9806 - val_recall: 0.9769 - learning_rate: 2.5000e-05\n",
            "Epoch 32/100\n",
            "\u001b[1m94/94\u001b[0m \u001b[32m━━━━━━━━━━━━━━━━━━━━\u001b[0m\u001b[37m\u001b[0m \u001b[1m0s\u001b[0m 136ms/step - accuracy: 0.9940 - binary_io_u: 0.9740 - loss: 0.0284 - precision: 0.9843 - recall: 0.9894\n",
            "Epoch 32: val_accuracy did not improve from 0.98814\n",
            "\u001b[1m94/94\u001b[0m \u001b[32m━━━━━━━━━━━━━━━━━━━━\u001b[0m\u001b[37m\u001b[0m \u001b[1m25s\u001b[0m 256ms/step - accuracy: 0.9940 - binary_io_u: 0.9740 - loss: 0.0284 - precision: 0.9843 - recall: 0.9894 - val_accuracy: 0.9881 - val_binary_io_u: 0.9581 - val_loss: 0.0473 - val_precision: 0.9818 - val_recall: 0.9754 - learning_rate: 2.5000e-05\n",
            "Epoch 33/100\n",
            "\u001b[1m94/94\u001b[0m \u001b[32m━━━━━━━━━━━━━━━━━━━━\u001b[0m\u001b[37m\u001b[0m \u001b[1m0s\u001b[0m 136ms/step - accuracy: 0.9940 - binary_io_u: 0.9739 - loss: 0.0282 - precision: 0.9844 - recall: 0.9891\n",
            "Epoch 33: val_accuracy did not improve from 0.98814\n",
            "\n",
            "Epoch 33: ReduceLROnPlateau reducing learning rate to 1.249999968422344e-05.\n",
            "\u001b[1m94/94\u001b[0m \u001b[32m━━━━━━━━━━━━━━━━━━━━\u001b[0m\u001b[37m\u001b[0m \u001b[1m25s\u001b[0m 256ms/step - accuracy: 0.9940 - binary_io_u: 0.9739 - loss: 0.0282 - precision: 0.9844 - recall: 0.9892 - val_accuracy: 0.9879 - val_binary_io_u: 0.9575 - val_loss: 0.0480 - val_precision: 0.9816 - val_recall: 0.9750 - learning_rate: 2.5000e-05\n",
            "Epoch 34/100\n",
            "\u001b[1m94/94\u001b[0m \u001b[32m━━━━━━━━━━━━━━━━━━━━\u001b[0m\u001b[37m\u001b[0m \u001b[1m0s\u001b[0m 136ms/step - accuracy: 0.9940 - binary_io_u: 0.9741 - loss: 0.0279 - precision: 0.9843 - recall: 0.9895\n",
            "Epoch 34: val_accuracy did not improve from 0.98814\n",
            "\u001b[1m94/94\u001b[0m \u001b[32m━━━━━━━━━━━━━━━━━━━━\u001b[0m\u001b[37m\u001b[0m \u001b[1m25s\u001b[0m 256ms/step - accuracy: 0.9940 - binary_io_u: 0.9742 - loss: 0.0279 - precision: 0.9844 - recall: 0.9895 - val_accuracy: 0.9880 - val_binary_io_u: 0.9576 - val_loss: 0.0473 - val_precision: 0.9834 - val_recall: 0.9734 - learning_rate: 1.2500e-05\n",
            "Epoch 35/100\n",
            "\u001b[1m94/94\u001b[0m \u001b[32m━━━━━━━━━━━━━━━━━━━━\u001b[0m\u001b[37m\u001b[0m \u001b[1m0s\u001b[0m 135ms/step - accuracy: 0.9941 - binary_io_u: 0.9744 - loss: 0.0276 - precision: 0.9848 - recall: 0.9892\n",
            "Epoch 35: val_accuracy did not improve from 0.98814\n",
            "\u001b[1m94/94\u001b[0m \u001b[32m━━━━━━━━━━━━━━━━━━━━\u001b[0m\u001b[37m\u001b[0m \u001b[1m24s\u001b[0m 254ms/step - accuracy: 0.9941 - binary_io_u: 0.9744 - loss: 0.0276 - precision: 0.9848 - recall: 0.9893 - val_accuracy: 0.9879 - val_binary_io_u: 0.9573 - val_loss: 0.0478 - val_precision: 0.9828 - val_recall: 0.9736 - learning_rate: 1.2500e-05\n",
            "Epoch 36/100\n",
            "\u001b[1m94/94\u001b[0m \u001b[32m━━━━━━━━━━━━━━━━━━━━\u001b[0m\u001b[37m\u001b[0m \u001b[1m0s\u001b[0m 135ms/step - accuracy: 0.9940 - binary_io_u: 0.9742 - loss: 0.0274 - precision: 0.9846 - recall: 0.9894\n",
            "Epoch 36: val_accuracy did not improve from 0.98814\n",
            "\u001b[1m94/94\u001b[0m \u001b[32m━━━━━━━━━━━━━━━━━━━━\u001b[0m\u001b[37m\u001b[0m \u001b[1m24s\u001b[0m 253ms/step - accuracy: 0.9940 - binary_io_u: 0.9743 - loss: 0.0274 - precision: 0.9846 - recall: 0.9894 - val_accuracy: 0.9879 - val_binary_io_u: 0.9574 - val_loss: 0.0472 - val_precision: 0.9826 - val_recall: 0.9739 - learning_rate: 1.2500e-05\n",
            "Epoch 37/100\n",
            "\u001b[1m94/94\u001b[0m \u001b[32m━━━━━━━━━━━━━━━━━━━━\u001b[0m\u001b[37m\u001b[0m \u001b[1m0s\u001b[0m 135ms/step - accuracy: 0.9941 - binary_io_u: 0.9744 - loss: 0.0273 - precision: 0.9846 - recall: 0.9894\n",
            "Epoch 37: val_accuracy did not improve from 0.98814\n",
            "\u001b[1m94/94\u001b[0m \u001b[32m━━━━━━━━━━━━━━━━━━━━\u001b[0m\u001b[37m\u001b[0m \u001b[1m24s\u001b[0m 253ms/step - accuracy: 0.9941 - binary_io_u: 0.9744 - loss: 0.0273 - precision: 0.9846 - recall: 0.9894 - val_accuracy: 0.9880 - val_binary_io_u: 0.9578 - val_loss: 0.0469 - val_precision: 0.9830 - val_recall: 0.9739 - learning_rate: 1.2500e-05\n",
            "Epoch 38/100\n",
            "\u001b[1m94/94\u001b[0m \u001b[32m━━━━━━━━━━━━━━━━━━━━\u001b[0m\u001b[37m\u001b[0m \u001b[1m0s\u001b[0m 135ms/step - accuracy: 0.9941 - binary_io_u: 0.9745 - loss: 0.0269 - precision: 0.9848 - recall: 0.9894\n",
            "Epoch 38: val_accuracy did not improve from 0.98814\n",
            "\u001b[1m94/94\u001b[0m \u001b[32m━━━━━━━━━━━━━━━━━━━━\u001b[0m\u001b[37m\u001b[0m \u001b[1m24s\u001b[0m 253ms/step - accuracy: 0.9941 - binary_io_u: 0.9746 - loss: 0.0269 - precision: 0.9848 - recall: 0.9894 - val_accuracy: 0.9876 - val_binary_io_u: 0.9565 - val_loss: 0.0480 - val_precision: 0.9795 - val_recall: 0.9760 - learning_rate: 1.2500e-05\n",
            "Epoch 39/100\n",
            "\u001b[1m94/94\u001b[0m \u001b[32m━━━━━━━━━━━━━━━━━━━━\u001b[0m\u001b[37m\u001b[0m \u001b[1m0s\u001b[0m 135ms/step - accuracy: 0.9941 - binary_io_u: 0.9745 - loss: 0.0268 - precision: 0.9847 - recall: 0.9895\n",
            "Epoch 39: val_accuracy did not improve from 0.98814\n",
            "\u001b[1m94/94\u001b[0m \u001b[32m━━━━━━━━━━━━━━━━━━━━\u001b[0m\u001b[37m\u001b[0m \u001b[1m24s\u001b[0m 253ms/step - accuracy: 0.9941 - binary_io_u: 0.9746 - loss: 0.0268 - precision: 0.9847 - recall: 0.9895 - val_accuracy: 0.9878 - val_binary_io_u: 0.9572 - val_loss: 0.0481 - val_precision: 0.9801 - val_recall: 0.9761 - learning_rate: 1.2500e-05\n",
            "Epoch 40/100\n",
            "\u001b[1m94/94\u001b[0m \u001b[32m━━━━━━━━━━━━━━━━━━━━\u001b[0m\u001b[37m\u001b[0m \u001b[1m0s\u001b[0m 135ms/step - accuracy: 0.9941 - binary_io_u: 0.9747 - loss: 0.0266 - precision: 0.9848 - recall: 0.9897\n",
            "Epoch 40: val_accuracy did not improve from 0.98814\n",
            "\u001b[1m94/94\u001b[0m \u001b[32m━━━━━━━━━━━━━━━━━━━━\u001b[0m\u001b[37m\u001b[0m \u001b[1m24s\u001b[0m 252ms/step - accuracy: 0.9941 - binary_io_u: 0.9748 - loss: 0.0266 - precision: 0.9848 - recall: 0.9897 - val_accuracy: 0.9878 - val_binary_io_u: 0.9571 - val_loss: 0.0481 - val_precision: 0.9783 - val_recall: 0.9779 - learning_rate: 1.2500e-05\n",
            "Epoch 41/100\n",
            "\u001b[1m94/94\u001b[0m \u001b[32m━━━━━━━━━━━━━━━━━━━━\u001b[0m\u001b[37m\u001b[0m \u001b[1m0s\u001b[0m 135ms/step - accuracy: 0.9942 - binary_io_u: 0.9750 - loss: 0.0264 - precision: 0.9849 - recall: 0.9898\n",
            "Epoch 41: val_accuracy did not improve from 0.98814\n",
            "\u001b[1m94/94\u001b[0m \u001b[32m━━━━━━━━━━━━━━━━━━━━\u001b[0m\u001b[37m\u001b[0m \u001b[1m24s\u001b[0m 251ms/step - accuracy: 0.9942 - binary_io_u: 0.9750 - loss: 0.0263 - precision: 0.9849 - recall: 0.9898 - val_accuracy: 0.9880 - val_binary_io_u: 0.9578 - val_loss: 0.0470 - val_precision: 0.9815 - val_recall: 0.9755 - learning_rate: 1.2500e-05\n",
            "Epoch 42/100\n",
            "\u001b[1m94/94\u001b[0m \u001b[32m━━━━━━━━━━━━━━━━━━━━\u001b[0m\u001b[37m\u001b[0m \u001b[1m0s\u001b[0m 134ms/step - accuracy: 0.9943 - binary_io_u: 0.9751 - loss: 0.0260 - precision: 0.9850 - recall: 0.9898\n",
            "Epoch 42: val_accuracy did not improve from 0.98814\n",
            "\n",
            "Epoch 42: ReduceLROnPlateau reducing learning rate to 6.24999984211172e-06.\n",
            "\u001b[1m94/94\u001b[0m \u001b[32m━━━━━━━━━━━━━━━━━━━━\u001b[0m\u001b[37m\u001b[0m \u001b[1m24s\u001b[0m 251ms/step - accuracy: 0.9943 - binary_io_u: 0.9752 - loss: 0.0260 - precision: 0.9850 - recall: 0.9898 - val_accuracy: 0.9879 - val_binary_io_u: 0.9574 - val_loss: 0.0471 - val_precision: 0.9805 - val_recall: 0.9760 - learning_rate: 1.2500e-05\n",
            "Epoch 43/100\n",
            "\u001b[1m94/94\u001b[0m \u001b[32m━━━━━━━━━━━━━━━━━━━━\u001b[0m\u001b[37m\u001b[0m \u001b[1m0s\u001b[0m 135ms/step - accuracy: 0.9943 - binary_io_u: 0.9752 - loss: 0.0257 - precision: 0.9847 - recall: 0.9902\n",
            "Epoch 43: val_accuracy did not improve from 0.98814\n",
            "\u001b[1m94/94\u001b[0m \u001b[32m━━━━━━━━━━━━━━━━━━━━\u001b[0m\u001b[37m\u001b[0m \u001b[1m24s\u001b[0m 252ms/step - accuracy: 0.9943 - binary_io_u: 0.9753 - loss: 0.0257 - precision: 0.9847 - recall: 0.9902 - val_accuracy: 0.9874 - val_binary_io_u: 0.9559 - val_loss: 0.0483 - val_precision: 0.9760 - val_recall: 0.9789 - learning_rate: 6.2500e-06\n",
            "Epoch 44/100\n",
            "\u001b[1m94/94\u001b[0m \u001b[32m━━━━━━━━━━━━━━━━━━━━\u001b[0m\u001b[37m\u001b[0m \u001b[1m0s\u001b[0m 134ms/step - accuracy: 0.9942 - binary_io_u: 0.9751 - loss: 0.0258 - precision: 0.9844 - recall: 0.9904\n",
            "Epoch 44: val_accuracy did not improve from 0.98814\n",
            "\u001b[1m94/94\u001b[0m \u001b[32m━━━━━━━━━━━━━━━━━━━━\u001b[0m\u001b[37m\u001b[0m \u001b[1m24s\u001b[0m 250ms/step - accuracy: 0.9942 - binary_io_u: 0.9751 - loss: 0.0258 - precision: 0.9844 - recall: 0.9904 - val_accuracy: 0.9874 - val_binary_io_u: 0.9561 - val_loss: 0.0480 - val_precision: 0.9753 - val_recall: 0.9799 - learning_rate: 6.2500e-06\n",
            "Epoch 45/100\n",
            "\u001b[1m94/94\u001b[0m \u001b[32m━━━━━━━━━━━━━━━━━━━━\u001b[0m\u001b[37m\u001b[0m \u001b[1m0s\u001b[0m 134ms/step - accuracy: 0.9943 - binary_io_u: 0.9753 - loss: 0.0256 - precision: 0.9848 - recall: 0.9902\n",
            "Epoch 45: val_accuracy did not improve from 0.98814\n",
            "\u001b[1m94/94\u001b[0m \u001b[32m━━━━━━━━━━━━━━━━━━━━\u001b[0m\u001b[37m\u001b[0m \u001b[1m24s\u001b[0m 251ms/step - accuracy: 0.9943 - binary_io_u: 0.9753 - loss: 0.0256 - precision: 0.9849 - recall: 0.9902 - val_accuracy: 0.9878 - val_binary_io_u: 0.9572 - val_loss: 0.0473 - val_precision: 0.9771 - val_recall: 0.9791 - learning_rate: 6.2500e-06\n",
            "Epoch 46/100\n",
            "\u001b[1m94/94\u001b[0m \u001b[32m━━━━━━━━━━━━━━━━━━━━\u001b[0m\u001b[37m\u001b[0m \u001b[1m0s\u001b[0m 134ms/step - accuracy: 0.9943 - binary_io_u: 0.9754 - loss: 0.0254 - precision: 0.9849 - recall: 0.9902\n",
            "Epoch 46: val_accuracy did not improve from 0.98814\n",
            "\u001b[1m94/94\u001b[0m \u001b[32m━━━━━━━━━━━━━━━━━━━━\u001b[0m\u001b[37m\u001b[0m \u001b[1m24s\u001b[0m 252ms/step - accuracy: 0.9943 - binary_io_u: 0.9754 - loss: 0.0254 - precision: 0.9850 - recall: 0.9902 - val_accuracy: 0.9876 - val_binary_io_u: 0.9565 - val_loss: 0.0477 - val_precision: 0.9764 - val_recall: 0.9792 - learning_rate: 6.2500e-06\n",
            "Epoch 47/100\n",
            "\u001b[1m94/94\u001b[0m \u001b[32m━━━━━━━━━━━━━━━━━━━━\u001b[0m\u001b[37m\u001b[0m \u001b[1m0s\u001b[0m 134ms/step - accuracy: 0.9943 - binary_io_u: 0.9755 - loss: 0.0255 - precision: 0.9850 - recall: 0.9902\n",
            "Epoch 47: val_accuracy did not improve from 0.98814\n",
            "\n",
            "Epoch 47: ReduceLROnPlateau reducing learning rate to 3.12499992105586e-06.\n",
            "\u001b[1m94/94\u001b[0m \u001b[32m━━━━━━━━━━━━━━━━━━━━\u001b[0m\u001b[37m\u001b[0m \u001b[1m24s\u001b[0m 250ms/step - accuracy: 0.9943 - binary_io_u: 0.9755 - loss: 0.0255 - precision: 0.9850 - recall: 0.9902 - val_accuracy: 0.9874 - val_binary_io_u: 0.9561 - val_loss: 0.0484 - val_precision: 0.9758 - val_recall: 0.9793 - learning_rate: 6.2500e-06\n",
            "Epoch 48/100\n",
            "\u001b[1m94/94\u001b[0m \u001b[32m━━━━━━━━━━━━━━━━━━━━\u001b[0m\u001b[37m\u001b[0m \u001b[1m0s\u001b[0m 134ms/step - accuracy: 0.9943 - binary_io_u: 0.9755 - loss: 0.0253 - precision: 0.9850 - recall: 0.9902\n",
            "Epoch 48: val_accuracy did not improve from 0.98814\n",
            "\u001b[1m94/94\u001b[0m \u001b[32m━━━━━━━━━━━━━━━━━━━━\u001b[0m\u001b[37m\u001b[0m \u001b[1m24s\u001b[0m 251ms/step - accuracy: 0.9943 - binary_io_u: 0.9755 - loss: 0.0253 - precision: 0.9850 - recall: 0.9902 - val_accuracy: 0.9876 - val_binary_io_u: 0.9565 - val_loss: 0.0478 - val_precision: 0.9777 - val_recall: 0.9778 - learning_rate: 3.1250e-06\n",
            "Epoch 49/100\n",
            "\u001b[1m94/94\u001b[0m \u001b[32m━━━━━━━━━━━━━━━━━━━━\u001b[0m\u001b[37m\u001b[0m \u001b[1m0s\u001b[0m 134ms/step - accuracy: 0.9943 - binary_io_u: 0.9754 - loss: 0.0252 - precision: 0.9856 - recall: 0.9896\n",
            "Epoch 49: val_accuracy did not improve from 0.98814\n",
            "\u001b[1m94/94\u001b[0m \u001b[32m━━━━━━━━━━━━━━━━━━━━\u001b[0m\u001b[37m\u001b[0m \u001b[1m24s\u001b[0m 252ms/step - accuracy: 0.9943 - binary_io_u: 0.9754 - loss: 0.0252 - precision: 0.9856 - recall: 0.9896 - val_accuracy: 0.9875 - val_binary_io_u: 0.9563 - val_loss: 0.0479 - val_precision: 0.9777 - val_recall: 0.9776 - learning_rate: 3.1250e-06\n",
            "Epoch 50/100\n",
            "\u001b[1m94/94\u001b[0m \u001b[32m━━━━━━━━━━━━━━━━━━━━\u001b[0m\u001b[37m\u001b[0m \u001b[1m0s\u001b[0m 135ms/step - accuracy: 0.9944 - binary_io_u: 0.9756 - loss: 0.0251 - precision: 0.9856 - recall: 0.9896\n",
            "Epoch 50: val_accuracy did not improve from 0.98814\n",
            "\u001b[1m94/94\u001b[0m \u001b[32m━━━━━━━━━━━━━━━━━━━━\u001b[0m\u001b[37m\u001b[0m \u001b[1m24s\u001b[0m 251ms/step - accuracy: 0.9944 - binary_io_u: 0.9756 - loss: 0.0251 - precision: 0.9857 - recall: 0.9896 - val_accuracy: 0.9878 - val_binary_io_u: 0.9572 - val_loss: 0.0469 - val_precision: 0.9791 - val_recall: 0.9772 - learning_rate: 3.1250e-06\n",
            "Epoch 51/100\n",
            "\u001b[1m94/94\u001b[0m \u001b[32m━━━━━━━━━━━━━━━━━━━━\u001b[0m\u001b[37m\u001b[0m \u001b[1m0s\u001b[0m 135ms/step - accuracy: 0.9943 - binary_io_u: 0.9755 - loss: 0.0252 - precision: 0.9859 - recall: 0.9893\n",
            "Epoch 51: val_accuracy did not improve from 0.98814\n",
            "\u001b[1m94/94\u001b[0m \u001b[32m━━━━━━━━━━━━━━━━━━━━\u001b[0m\u001b[37m\u001b[0m \u001b[1m24s\u001b[0m 251ms/step - accuracy: 0.9943 - binary_io_u: 0.9756 - loss: 0.0252 - precision: 0.9859 - recall: 0.9893 - val_accuracy: 0.9879 - val_binary_io_u: 0.9575 - val_loss: 0.0467 - val_precision: 0.9789 - val_recall: 0.9776 - learning_rate: 3.1250e-06\n",
            "Epoch 52/100\n",
            "\u001b[1m94/94\u001b[0m \u001b[32m━━━━━━━━━━━━━━━━━━━━\u001b[0m\u001b[37m\u001b[0m \u001b[1m0s\u001b[0m 135ms/step - accuracy: 0.9944 - binary_io_u: 0.9759 - loss: 0.0248 - precision: 0.9860 - recall: 0.9896\n",
            "Epoch 52: val_accuracy improved from 0.98814 to 0.98833, saving model to /content/drive/MyDrive/UMich/PR/EuroPalletSeg/results/models/best_model_epoch52_valacc0.99.h5\n"
          ]
        },
        {
          "output_type": "stream",
          "name": "stderr",
          "text": [
            "WARNING:absl:You are saving your model as an HDF5 file via `model.save()` or `keras.saving.save_model(model)`. This file format is considered legacy. We recommend using instead the native Keras format, e.g. `model.save('my_model.keras')` or `keras.saving.save_model(model, 'my_model.keras')`. \n"
          ]
        },
        {
          "output_type": "stream",
          "name": "stdout",
          "text": [
            "\b\b\b\b\b\b\b\b\b\b\b\b\b\b\b\b\b\b\b\b\b\b\b\b\b\b\b\b\b\b\b\b\b\b\b\b\b\b\b\b\b\b\b\b\b\b\b\b\b\b\b\b\b\b\b\b\b\b\b\b\b\b\b\b\b\b\b\b\b\b\b\b\b\b\b\b\b\b\b\b\b\b\b\b\b\b\b\b\b\b\b\b\b\b\b\b\b\b\b\b\b\b\b\b\b\b\b\b\b\b\b\b\b\b\b\b\b\b\b\b\b\b\b\b\b\b\b\b\b\b\b\b\b\r\u001b[1m94/94\u001b[0m \u001b[32m━━━━━━━━━━━━━━━━━━━━\u001b[0m\u001b[37m\u001b[0m \u001b[1m26s\u001b[0m 274ms/step - accuracy: 0.9944 - binary_io_u: 0.9759 - loss: 0.0248 - precision: 0.9860 - recall: 0.9896 - val_accuracy: 0.9883 - val_binary_io_u: 0.9590 - val_loss: 0.0455 - val_precision: 0.9811 - val_recall: 0.9771 - learning_rate: 3.1250e-06\n",
            "Epoch 53/100\n",
            "\u001b[1m94/94\u001b[0m \u001b[32m━━━━━━━━━━━━━━━━━━━━\u001b[0m\u001b[37m\u001b[0m \u001b[1m0s\u001b[0m 134ms/step - accuracy: 0.9944 - binary_io_u: 0.9757 - loss: 0.0249 - precision: 0.9861 - recall: 0.9893\n",
            "Epoch 53: val_accuracy did not improve from 0.98833\n",
            "\u001b[1m94/94\u001b[0m \u001b[32m━━━━━━━━━━━━━━━━━━━━\u001b[0m\u001b[37m\u001b[0m \u001b[1m24s\u001b[0m 251ms/step - accuracy: 0.9944 - binary_io_u: 0.9757 - loss: 0.0249 - precision: 0.9861 - recall: 0.9893 - val_accuracy: 0.9883 - val_binary_io_u: 0.9588 - val_loss: 0.0456 - val_precision: 0.9809 - val_recall: 0.9771 - learning_rate: 3.1250e-06\n",
            "Epoch 54/100\n",
            "\u001b[1m94/94\u001b[0m \u001b[32m━━━━━━━━━━━━━━━━━━━━\u001b[0m\u001b[37m\u001b[0m \u001b[1m0s\u001b[0m 134ms/step - accuracy: 0.9944 - binary_io_u: 0.9758 - loss: 0.0248 - precision: 0.9862 - recall: 0.9893\n",
            "Epoch 54: val_accuracy did not improve from 0.98833\n",
            "\u001b[1m94/94\u001b[0m \u001b[32m━━━━━━━━━━━━━━━━━━━━\u001b[0m\u001b[37m\u001b[0m \u001b[1m24s\u001b[0m 252ms/step - accuracy: 0.9944 - binary_io_u: 0.9758 - loss: 0.0248 - precision: 0.9862 - recall: 0.9893 - val_accuracy: 0.9882 - val_binary_io_u: 0.9584 - val_loss: 0.0458 - val_precision: 0.9802 - val_recall: 0.9774 - learning_rate: 3.1250e-06\n",
            "Epoch 55/100\n",
            "\u001b[1m94/94\u001b[0m \u001b[32m━━━━━━━━━━━━━━━━━━━━\u001b[0m\u001b[37m\u001b[0m \u001b[1m0s\u001b[0m 135ms/step - accuracy: 0.9944 - binary_io_u: 0.9760 - loss: 0.0247 - precision: 0.9862 - recall: 0.9895\n",
            "Epoch 55: val_accuracy did not improve from 0.98833\n",
            "\u001b[1m94/94\u001b[0m \u001b[32m━━━━━━━━━━━━━━━━━━━━\u001b[0m\u001b[37m\u001b[0m \u001b[1m24s\u001b[0m 251ms/step - accuracy: 0.9944 - binary_io_u: 0.9760 - loss: 0.0247 - precision: 0.9862 - recall: 0.9895 - val_accuracy: 0.9880 - val_binary_io_u: 0.9579 - val_loss: 0.0465 - val_precision: 0.9787 - val_recall: 0.9783 - learning_rate: 3.1250e-06\n",
            "Epoch 56/100\n",
            "\u001b[1m94/94\u001b[0m \u001b[32m━━━━━━━━━━━━━━━━━━━━\u001b[0m\u001b[37m\u001b[0m \u001b[1m0s\u001b[0m 134ms/step - accuracy: 0.9944 - binary_io_u: 0.9758 - loss: 0.0247 - precision: 0.9861 - recall: 0.9894\n",
            "Epoch 56: val_accuracy did not improve from 0.98833\n",
            "\u001b[1m94/94\u001b[0m \u001b[32m━━━━━━━━━━━━━━━━━━━━\u001b[0m\u001b[37m\u001b[0m \u001b[1m24s\u001b[0m 250ms/step - accuracy: 0.9944 - binary_io_u: 0.9758 - loss: 0.0247 - precision: 0.9861 - recall: 0.9894 - val_accuracy: 0.9880 - val_binary_io_u: 0.9580 - val_loss: 0.0462 - val_precision: 0.9799 - val_recall: 0.9772 - learning_rate: 3.1250e-06\n",
            "Epoch 57/100\n",
            "\u001b[1m94/94\u001b[0m \u001b[32m━━━━━━━━━━━━━━━━━━━━\u001b[0m\u001b[37m\u001b[0m \u001b[1m0s\u001b[0m 135ms/step - accuracy: 0.9944 - binary_io_u: 0.9759 - loss: 0.0246 - precision: 0.9862 - recall: 0.9894\n",
            "Epoch 57: val_accuracy did not improve from 0.98833\n",
            "\n",
            "Epoch 57: ReduceLROnPlateau reducing learning rate to 1.56249996052793e-06.\n",
            "\u001b[1m94/94\u001b[0m \u001b[32m━━━━━━━━━━━━━━━━━━━━\u001b[0m\u001b[37m\u001b[0m \u001b[1m24s\u001b[0m 250ms/step - accuracy: 0.9944 - binary_io_u: 0.9759 - loss: 0.0246 - precision: 0.9863 - recall: 0.9894 - val_accuracy: 0.9881 - val_binary_io_u: 0.9581 - val_loss: 0.0461 - val_precision: 0.9798 - val_recall: 0.9774 - learning_rate: 3.1250e-06\n",
            "Epoch 58/100\n",
            "\u001b[1m94/94\u001b[0m \u001b[32m━━━━━━━━━━━━━━━━━━━━\u001b[0m\u001b[37m\u001b[0m \u001b[1m0s\u001b[0m 134ms/step - accuracy: 0.9945 - binary_io_u: 0.9760 - loss: 0.0245 - precision: 0.9864 - recall: 0.9893\n",
            "Epoch 58: val_accuracy did not improve from 0.98833\n",
            "\u001b[1m94/94\u001b[0m \u001b[32m━━━━━━━━━━━━━━━━━━━━\u001b[0m\u001b[37m\u001b[0m \u001b[1m24s\u001b[0m 250ms/step - accuracy: 0.9945 - binary_io_u: 0.9760 - loss: 0.0245 - precision: 0.9864 - recall: 0.9893 - val_accuracy: 0.9881 - val_binary_io_u: 0.9583 - val_loss: 0.0461 - val_precision: 0.9801 - val_recall: 0.9773 - learning_rate: 1.5625e-06\n",
            "Epoch 59/100\n",
            "\u001b[1m94/94\u001b[0m \u001b[32m━━━━━━━━━━━━━━━━━━━━\u001b[0m\u001b[37m\u001b[0m \u001b[1m0s\u001b[0m 135ms/step - accuracy: 0.9945 - binary_io_u: 0.9762 - loss: 0.0244 - precision: 0.9868 - recall: 0.9892\n",
            "Epoch 59: val_accuracy did not improve from 0.98833\n",
            "\u001b[1m94/94\u001b[0m \u001b[32m━━━━━━━━━━━━━━━━━━━━\u001b[0m\u001b[37m\u001b[0m \u001b[1m24s\u001b[0m 250ms/step - accuracy: 0.9945 - binary_io_u: 0.9762 - loss: 0.0244 - precision: 0.9868 - recall: 0.9892 - val_accuracy: 0.9881 - val_binary_io_u: 0.9583 - val_loss: 0.0461 - val_precision: 0.9803 - val_recall: 0.9772 - learning_rate: 1.5625e-06\n",
            "Epoch 60/100\n",
            "\u001b[1m94/94\u001b[0m \u001b[32m━━━━━━━━━━━━━━━━━━━━\u001b[0m\u001b[37m\u001b[0m \u001b[1m0s\u001b[0m 134ms/step - accuracy: 0.9945 - binary_io_u: 0.9760 - loss: 0.0246 - precision: 0.9867 - recall: 0.9891\n",
            "Epoch 60: val_accuracy did not improve from 0.98833\n",
            "\u001b[1m94/94\u001b[0m \u001b[32m━━━━━━━━━━━━━━━━━━━━\u001b[0m\u001b[37m\u001b[0m \u001b[1m24s\u001b[0m 250ms/step - accuracy: 0.9945 - binary_io_u: 0.9761 - loss: 0.0246 - precision: 0.9867 - recall: 0.9891 - val_accuracy: 0.9883 - val_binary_io_u: 0.9588 - val_loss: 0.0457 - val_precision: 0.9806 - val_recall: 0.9773 - learning_rate: 1.5625e-06\n",
            "Epoch 61/100\n",
            "\u001b[1m94/94\u001b[0m \u001b[32m━━━━━━━━━━━━━━━━━━━━\u001b[0m\u001b[37m\u001b[0m \u001b[1m0s\u001b[0m 134ms/step - accuracy: 0.9945 - binary_io_u: 0.9762 - loss: 0.0244 - precision: 0.9867 - recall: 0.9892\n",
            "Epoch 61: val_accuracy did not improve from 0.98833\n",
            "\u001b[1m94/94\u001b[0m \u001b[32m━━━━━━━━━━━━━━━━━━━━\u001b[0m\u001b[37m\u001b[0m \u001b[1m24s\u001b[0m 248ms/step - accuracy: 0.9945 - binary_io_u: 0.9762 - loss: 0.0244 - precision: 0.9867 - recall: 0.9892 - val_accuracy: 0.9883 - val_binary_io_u: 0.9588 - val_loss: 0.0457 - val_precision: 0.9807 - val_recall: 0.9773 - learning_rate: 1.5625e-06\n",
            "Epoch 62/100\n",
            "\u001b[1m94/94\u001b[0m \u001b[32m━━━━━━━━━━━━━━━━━━━━\u001b[0m\u001b[37m\u001b[0m \u001b[1m0s\u001b[0m 134ms/step - accuracy: 0.9945 - binary_io_u: 0.9763 - loss: 0.0244 - precision: 0.9867 - recall: 0.9893\n",
            "Epoch 62: val_accuracy did not improve from 0.98833\n",
            "\n",
            "Epoch 62: ReduceLROnPlateau reducing learning rate to 1e-06.\n",
            "\u001b[1m94/94\u001b[0m \u001b[32m━━━━━━━━━━━━━━━━━━━━\u001b[0m\u001b[37m\u001b[0m \u001b[1m24s\u001b[0m 250ms/step - accuracy: 0.9945 - binary_io_u: 0.9763 - loss: 0.0244 - precision: 0.9867 - recall: 0.9893 - val_accuracy: 0.9882 - val_binary_io_u: 0.9586 - val_loss: 0.0459 - val_precision: 0.9802 - val_recall: 0.9776 - learning_rate: 1.5625e-06\n",
            "Epoch 63/100\n",
            "\u001b[1m94/94\u001b[0m \u001b[32m━━━━━━━━━━━━━━━━━━━━\u001b[0m\u001b[37m\u001b[0m \u001b[1m0s\u001b[0m 133ms/step - accuracy: 0.9945 - binary_io_u: 0.9762 - loss: 0.0244 - precision: 0.9867 - recall: 0.9891\n",
            "Epoch 63: val_accuracy did not improve from 0.98833\n",
            "\u001b[1m94/94\u001b[0m \u001b[32m━━━━━━━━━━━━━━━━━━━━\u001b[0m\u001b[37m\u001b[0m \u001b[1m24s\u001b[0m 248ms/step - accuracy: 0.9945 - binary_io_u: 0.9762 - loss: 0.0244 - precision: 0.9867 - recall: 0.9892 - val_accuracy: 0.9882 - val_binary_io_u: 0.9586 - val_loss: 0.0459 - val_precision: 0.9803 - val_recall: 0.9774 - learning_rate: 1.0000e-06\n",
            "Epoch 64/100\n",
            "\u001b[1m94/94\u001b[0m \u001b[32m━━━━━━━━━━━━━━━━━━━━\u001b[0m\u001b[37m\u001b[0m \u001b[1m0s\u001b[0m 134ms/step - accuracy: 0.9945 - binary_io_u: 0.9764 - loss: 0.0242 - precision: 0.9867 - recall: 0.9894\n",
            "Epoch 64: val_accuracy did not improve from 0.98833\n",
            "\u001b[1m94/94\u001b[0m \u001b[32m━━━━━━━━━━━━━━━━━━━━\u001b[0m\u001b[37m\u001b[0m \u001b[1m24s\u001b[0m 248ms/step - accuracy: 0.9945 - binary_io_u: 0.9764 - loss: 0.0242 - precision: 0.9867 - recall: 0.9895 - val_accuracy: 0.9882 - val_binary_io_u: 0.9586 - val_loss: 0.0458 - val_precision: 0.9800 - val_recall: 0.9777 - learning_rate: 1.0000e-06\n",
            "Epoch 65/100\n",
            "\u001b[1m94/94\u001b[0m \u001b[32m━━━━━━━━━━━━━━━━━━━━\u001b[0m\u001b[37m\u001b[0m \u001b[1m0s\u001b[0m 134ms/step - accuracy: 0.9945 - binary_io_u: 0.9762 - loss: 0.0243 - precision: 0.9867 - recall: 0.9892\n",
            "Epoch 65: val_accuracy did not improve from 0.98833\n",
            "\u001b[1m94/94\u001b[0m \u001b[32m━━━━━━━━━━━━━━━━━━━━\u001b[0m\u001b[37m\u001b[0m \u001b[1m24s\u001b[0m 249ms/step - accuracy: 0.9945 - binary_io_u: 0.9763 - loss: 0.0243 - precision: 0.9867 - recall: 0.9892 - val_accuracy: 0.9883 - val_binary_io_u: 0.9588 - val_loss: 0.0457 - val_precision: 0.9803 - val_recall: 0.9776 - learning_rate: 1.0000e-06\n",
            "Epoch 66/100\n",
            "\u001b[1m94/94\u001b[0m \u001b[32m━━━━━━━━━━━━━━━━━━━━\u001b[0m\u001b[37m\u001b[0m \u001b[1m0s\u001b[0m 134ms/step - accuracy: 0.9945 - binary_io_u: 0.9763 - loss: 0.0243 - precision: 0.9866 - recall: 0.9894\n",
            "Epoch 66: val_accuracy did not improve from 0.98833\n",
            "\u001b[1m94/94\u001b[0m \u001b[32m━━━━━━━━━━━━━━━━━━━━\u001b[0m\u001b[37m\u001b[0m \u001b[1m24s\u001b[0m 250ms/step - accuracy: 0.9945 - binary_io_u: 0.9763 - loss: 0.0243 - precision: 0.9866 - recall: 0.9894 - val_accuracy: 0.9882 - val_binary_io_u: 0.9587 - val_loss: 0.0458 - val_precision: 0.9803 - val_recall: 0.9776 - learning_rate: 1.0000e-06\n",
            "Epoch 67/100\n",
            "\u001b[1m94/94\u001b[0m \u001b[32m━━━━━━━━━━━━━━━━━━━━\u001b[0m\u001b[37m\u001b[0m \u001b[1m0s\u001b[0m 134ms/step - accuracy: 0.9945 - binary_io_u: 0.9762 - loss: 0.0242 - precision: 0.9865 - recall: 0.9895\n",
            "Epoch 67: val_accuracy did not improve from 0.98833\n",
            "\u001b[1m94/94\u001b[0m \u001b[32m━━━━━━━━━━━━━━━━━━━━\u001b[0m\u001b[37m\u001b[0m \u001b[1m24s\u001b[0m 249ms/step - accuracy: 0.9945 - binary_io_u: 0.9763 - loss: 0.0242 - precision: 0.9865 - recall: 0.9895 - val_accuracy: 0.9883 - val_binary_io_u: 0.9588 - val_loss: 0.0458 - val_precision: 0.9804 - val_recall: 0.9776 - learning_rate: 1.0000e-06\n",
            "Epoch 68/100\n",
            "\u001b[1m94/94\u001b[0m \u001b[32m━━━━━━━━━━━━━━━━━━━━\u001b[0m\u001b[37m\u001b[0m \u001b[1m0s\u001b[0m 133ms/step - accuracy: 0.9946 - binary_io_u: 0.9765 - loss: 0.0241 - precision: 0.9868 - recall: 0.9894\n",
            "Epoch 68: val_accuracy did not improve from 0.98833\n",
            "\u001b[1m94/94\u001b[0m \u001b[32m━━━━━━━━━━━━━━━━━━━━\u001b[0m\u001b[37m\u001b[0m \u001b[1m24s\u001b[0m 250ms/step - accuracy: 0.9946 - binary_io_u: 0.9765 - loss: 0.0241 - precision: 0.9868 - recall: 0.9895 - val_accuracy: 0.9882 - val_binary_io_u: 0.9587 - val_loss: 0.0458 - val_precision: 0.9803 - val_recall: 0.9776 - learning_rate: 1.0000e-06\n",
            "Epoch 69/100\n",
            "\u001b[1m94/94\u001b[0m \u001b[32m━━━━━━━━━━━━━━━━━━━━\u001b[0m\u001b[37m\u001b[0m \u001b[1m0s\u001b[0m 135ms/step - accuracy: 0.9945 - binary_io_u: 0.9764 - loss: 0.0241 - precision: 0.9867 - recall: 0.9894\n",
            "Epoch 69: val_accuracy did not improve from 0.98833\n",
            "\u001b[1m94/94\u001b[0m \u001b[32m━━━━━━━━━━━━━━━━━━━━\u001b[0m\u001b[37m\u001b[0m \u001b[1m24s\u001b[0m 250ms/step - accuracy: 0.9945 - binary_io_u: 0.9764 - loss: 0.0241 - precision: 0.9867 - recall: 0.9894 - val_accuracy: 0.9883 - val_binary_io_u: 0.9589 - val_loss: 0.0457 - val_precision: 0.9806 - val_recall: 0.9774 - learning_rate: 1.0000e-06\n",
            "Epoch 70/100\n",
            "\u001b[1m94/94\u001b[0m \u001b[32m━━━━━━━━━━━━━━━━━━━━\u001b[0m\u001b[37m\u001b[0m \u001b[1m0s\u001b[0m 134ms/step - accuracy: 0.9945 - binary_io_u: 0.9764 - loss: 0.0242 - precision: 0.9867 - recall: 0.9895\n",
            "Epoch 70: val_accuracy did not improve from 0.98833\n",
            "\u001b[1m94/94\u001b[0m \u001b[32m━━━━━━━━━━━━━━━━━━━━\u001b[0m\u001b[37m\u001b[0m \u001b[1m24s\u001b[0m 249ms/step - accuracy: 0.9945 - binary_io_u: 0.9765 - loss: 0.0242 - precision: 0.9867 - recall: 0.9895 - val_accuracy: 0.9883 - val_binary_io_u: 0.9588 - val_loss: 0.0457 - val_precision: 0.9803 - val_recall: 0.9776 - learning_rate: 1.0000e-06\n",
            "Epoch 71/100\n",
            "\u001b[1m94/94\u001b[0m \u001b[32m━━━━━━━━━━━━━━━━━━━━\u001b[0m\u001b[37m\u001b[0m \u001b[1m0s\u001b[0m 134ms/step - accuracy: 0.9946 - binary_io_u: 0.9765 - loss: 0.0242 - precision: 0.9867 - recall: 0.9895\n",
            "Epoch 71: val_accuracy did not improve from 0.98833\n",
            "\u001b[1m94/94\u001b[0m \u001b[32m━━━━━━━━━━━━━━━━━━━━\u001b[0m\u001b[37m\u001b[0m \u001b[1m24s\u001b[0m 250ms/step - accuracy: 0.9946 - binary_io_u: 0.9765 - loss: 0.0242 - precision: 0.9867 - recall: 0.9895 - val_accuracy: 0.9883 - val_binary_io_u: 0.9590 - val_loss: 0.0456 - val_precision: 0.9806 - val_recall: 0.9775 - learning_rate: 1.0000e-06\n",
            "Epoch 72/100\n",
            "\u001b[1m94/94\u001b[0m \u001b[32m━━━━━━━━━━━━━━━━━━━━\u001b[0m\u001b[37m\u001b[0m \u001b[1m0s\u001b[0m 135ms/step - accuracy: 0.9946 - binary_io_u: 0.9767 - loss: 0.0240 - precision: 0.9868 - recall: 0.9896\n",
            "Epoch 72: val_accuracy did not improve from 0.98833\n",
            "\u001b[1m94/94\u001b[0m \u001b[32m━━━━━━━━━━━━━━━━━━━━\u001b[0m\u001b[37m\u001b[0m \u001b[1m24s\u001b[0m 251ms/step - accuracy: 0.9946 - binary_io_u: 0.9767 - loss: 0.0239 - precision: 0.9868 - recall: 0.9896 - val_accuracy: 0.9883 - val_binary_io_u: 0.9590 - val_loss: 0.0455 - val_precision: 0.9810 - val_recall: 0.9772 - learning_rate: 1.0000e-06\n",
            "Epoch 73/100\n",
            "\u001b[1m94/94\u001b[0m \u001b[32m━━━━━━━━━━━━━━━━━━━━\u001b[0m\u001b[37m\u001b[0m \u001b[1m0s\u001b[0m 135ms/step - accuracy: 0.9946 - binary_io_u: 0.9764 - loss: 0.0239 - precision: 0.9866 - recall: 0.9895\n",
            "Epoch 73: val_accuracy did not improve from 0.98833\n",
            "\u001b[1m94/94\u001b[0m \u001b[32m━━━━━━━━━━━━━━━━━━━━\u001b[0m\u001b[37m\u001b[0m \u001b[1m24s\u001b[0m 250ms/step - accuracy: 0.9946 - binary_io_u: 0.9765 - loss: 0.0239 - precision: 0.9867 - recall: 0.9895 - val_accuracy: 0.9882 - val_binary_io_u: 0.9587 - val_loss: 0.0458 - val_precision: 0.9804 - val_recall: 0.9774 - learning_rate: 1.0000e-06\n",
            "Epoch 74/100\n",
            "\u001b[1m94/94\u001b[0m \u001b[32m━━━━━━━━━━━━━━━━━━━━\u001b[0m\u001b[37m\u001b[0m \u001b[1m0s\u001b[0m 135ms/step - accuracy: 0.9945 - binary_io_u: 0.9764 - loss: 0.0241 - precision: 0.9865 - recall: 0.9896\n",
            "Epoch 74: val_accuracy did not improve from 0.98833\n",
            "\u001b[1m94/94\u001b[0m \u001b[32m━━━━━━━━━━━━━━━━━━━━\u001b[0m\u001b[37m\u001b[0m \u001b[1m24s\u001b[0m 251ms/step - accuracy: 0.9945 - binary_io_u: 0.9764 - loss: 0.0241 - precision: 0.9865 - recall: 0.9896 - val_accuracy: 0.9882 - val_binary_io_u: 0.9587 - val_loss: 0.0458 - val_precision: 0.9802 - val_recall: 0.9776 - learning_rate: 1.0000e-06\n",
            "Epoch 75/100\n",
            "\u001b[1m94/94\u001b[0m \u001b[32m━━━━━━━━━━━━━━━━━━━━\u001b[0m\u001b[37m\u001b[0m \u001b[1m0s\u001b[0m 135ms/step - accuracy: 0.9945 - binary_io_u: 0.9764 - loss: 0.0241 - precision: 0.9867 - recall: 0.9895\n",
            "Epoch 75: val_accuracy did not improve from 0.98833\n",
            "\u001b[1m94/94\u001b[0m \u001b[32m━━━━━━━━━━━━━━━━━━━━\u001b[0m\u001b[37m\u001b[0m \u001b[1m24s\u001b[0m 250ms/step - accuracy: 0.9945 - binary_io_u: 0.9765 - loss: 0.0241 - precision: 0.9867 - recall: 0.9895 - val_accuracy: 0.9882 - val_binary_io_u: 0.9586 - val_loss: 0.0459 - val_precision: 0.9799 - val_recall: 0.9778 - learning_rate: 1.0000e-06\n",
            "Epoch 76/100\n",
            "\u001b[1m94/94\u001b[0m \u001b[32m━━━━━━━━━━━━━━━━━━━━\u001b[0m\u001b[37m\u001b[0m \u001b[1m0s\u001b[0m 134ms/step - accuracy: 0.9946 - binary_io_u: 0.9765 - loss: 0.0239 - precision: 0.9866 - recall: 0.9897\n",
            "Epoch 76: val_accuracy did not improve from 0.98833\n",
            "\u001b[1m94/94\u001b[0m \u001b[32m━━━━━━━━━━━━━━━━━━━━\u001b[0m\u001b[37m\u001b[0m \u001b[1m24s\u001b[0m 253ms/step - accuracy: 0.9946 - binary_io_u: 0.9765 - loss: 0.0239 - precision: 0.9866 - recall: 0.9897 - val_accuracy: 0.9882 - val_binary_io_u: 0.9586 - val_loss: 0.0458 - val_precision: 0.9802 - val_recall: 0.9776 - learning_rate: 1.0000e-06\n",
            "Epoch 77/100\n",
            "\u001b[1m94/94\u001b[0m \u001b[32m━━━━━━━━━━━━━━━━━━━━\u001b[0m\u001b[37m\u001b[0m \u001b[1m0s\u001b[0m 135ms/step - accuracy: 0.9946 - binary_io_u: 0.9767 - loss: 0.0239 - precision: 0.9870 - recall: 0.9894\n",
            "Epoch 77: val_accuracy did not improve from 0.98833\n",
            "\u001b[1m94/94\u001b[0m \u001b[32m━━━━━━━━━━━━━━━━━━━━\u001b[0m\u001b[37m\u001b[0m \u001b[1m24s\u001b[0m 249ms/step - accuracy: 0.9946 - binary_io_u: 0.9767 - loss: 0.0239 - precision: 0.9870 - recall: 0.9894 - val_accuracy: 0.9882 - val_binary_io_u: 0.9587 - val_loss: 0.0457 - val_precision: 0.9806 - val_recall: 0.9773 - learning_rate: 1.0000e-06\n",
            "Epoch 78/100\n",
            "\u001b[1m94/94\u001b[0m \u001b[32m━━━━━━━━━━━━━━━━━━━━\u001b[0m\u001b[37m\u001b[0m \u001b[1m0s\u001b[0m 134ms/step - accuracy: 0.9946 - binary_io_u: 0.9765 - loss: 0.0240 - precision: 0.9868 - recall: 0.9894\n",
            "Epoch 78: val_accuracy did not improve from 0.98833\n",
            "\u001b[1m94/94\u001b[0m \u001b[32m━━━━━━━━━━━━━━━━━━━━\u001b[0m\u001b[37m\u001b[0m \u001b[1m24s\u001b[0m 249ms/step - accuracy: 0.9946 - binary_io_u: 0.9765 - loss: 0.0240 - precision: 0.9868 - recall: 0.9894 - val_accuracy: 0.9883 - val_binary_io_u: 0.9588 - val_loss: 0.0457 - val_precision: 0.9805 - val_recall: 0.9774 - learning_rate: 1.0000e-06\n",
            "Epoch 79/100\n",
            "\u001b[1m94/94\u001b[0m \u001b[32m━━━━━━━━━━━━━━━━━━━━\u001b[0m\u001b[37m\u001b[0m \u001b[1m0s\u001b[0m 134ms/step - accuracy: 0.9946 - binary_io_u: 0.9764 - loss: 0.0239 - precision: 0.9867 - recall: 0.9895\n",
            "Epoch 79: val_accuracy did not improve from 0.98833\n",
            "\u001b[1m94/94\u001b[0m \u001b[32m━━━━━━━━━━━━━━━━━━━━\u001b[0m\u001b[37m\u001b[0m \u001b[1m24s\u001b[0m 249ms/step - accuracy: 0.9946 - binary_io_u: 0.9764 - loss: 0.0239 - precision: 0.9867 - recall: 0.9895 - val_accuracy: 0.9882 - val_binary_io_u: 0.9587 - val_loss: 0.0457 - val_precision: 0.9805 - val_recall: 0.9774 - learning_rate: 1.0000e-06\n",
            "Epoch 80/100\n",
            "\u001b[1m94/94\u001b[0m \u001b[32m━━━━━━━━━━━━━━━━━━━━\u001b[0m\u001b[37m\u001b[0m \u001b[1m0s\u001b[0m 134ms/step - accuracy: 0.9946 - binary_io_u: 0.9764 - loss: 0.0239 - precision: 0.9865 - recall: 0.9897\n",
            "Epoch 80: val_accuracy did not improve from 0.98833\n",
            "\u001b[1m94/94\u001b[0m \u001b[32m━━━━━━━━━━━━━━━━━━━━\u001b[0m\u001b[37m\u001b[0m \u001b[1m24s\u001b[0m 249ms/step - accuracy: 0.9946 - binary_io_u: 0.9765 - loss: 0.0239 - precision: 0.9865 - recall: 0.9897 - val_accuracy: 0.9883 - val_binary_io_u: 0.9588 - val_loss: 0.0456 - val_precision: 0.9806 - val_recall: 0.9774 - learning_rate: 1.0000e-06\n",
            "Epoch 81/100\n",
            "\u001b[1m94/94\u001b[0m \u001b[32m━━━━━━━━━━━━━━━━━━━━\u001b[0m\u001b[37m\u001b[0m \u001b[1m0s\u001b[0m 134ms/step - accuracy: 0.9946 - binary_io_u: 0.9766 - loss: 0.0238 - precision: 0.9866 - recall: 0.9897\n",
            "Epoch 81: val_accuracy did not improve from 0.98833\n",
            "\u001b[1m94/94\u001b[0m \u001b[32m━━━━━━━━━━━━━━━━━━━━\u001b[0m\u001b[37m\u001b[0m \u001b[1m24s\u001b[0m 250ms/step - accuracy: 0.9946 - binary_io_u: 0.9766 - loss: 0.0238 - precision: 0.9867 - recall: 0.9897 - val_accuracy: 0.9882 - val_binary_io_u: 0.9585 - val_loss: 0.0459 - val_precision: 0.9799 - val_recall: 0.9778 - learning_rate: 1.0000e-06\n",
            "Epoch 82/100\n",
            "\u001b[1m94/94\u001b[0m \u001b[32m━━━━━━━━━━━━━━━━━━━━\u001b[0m\u001b[37m\u001b[0m \u001b[1m0s\u001b[0m 134ms/step - accuracy: 0.9946 - binary_io_u: 0.9766 - loss: 0.0238 - precision: 0.9868 - recall: 0.9895\n",
            "Epoch 82: val_accuracy did not improve from 0.98833\n",
            "\u001b[1m94/94\u001b[0m \u001b[32m━━━━━━━━━━━━━━━━━━━━\u001b[0m\u001b[37m\u001b[0m \u001b[1m24s\u001b[0m 250ms/step - accuracy: 0.9946 - binary_io_u: 0.9767 - loss: 0.0238 - precision: 0.9868 - recall: 0.9896 - val_accuracy: 0.9882 - val_binary_io_u: 0.9586 - val_loss: 0.0458 - val_precision: 0.9801 - val_recall: 0.9777 - learning_rate: 1.0000e-06\n",
            "Epoch 83/100\n",
            "\u001b[1m94/94\u001b[0m \u001b[32m━━━━━━━━━━━━━━━━━━━━\u001b[0m\u001b[37m\u001b[0m \u001b[1m0s\u001b[0m 135ms/step - accuracy: 0.9946 - binary_io_u: 0.9765 - loss: 0.0239 - precision: 0.9867 - recall: 0.9894\n",
            "Epoch 83: val_accuracy did not improve from 0.98833\n",
            "\u001b[1m94/94\u001b[0m \u001b[32m━━━━━━━━━━━━━━━━━━━━\u001b[0m\u001b[37m\u001b[0m \u001b[1m24s\u001b[0m 251ms/step - accuracy: 0.9946 - binary_io_u: 0.9765 - loss: 0.0239 - precision: 0.9868 - recall: 0.9895 - val_accuracy: 0.9882 - val_binary_io_u: 0.9586 - val_loss: 0.0459 - val_precision: 0.9803 - val_recall: 0.9774 - learning_rate: 1.0000e-06\n",
            "Epoch 84/100\n",
            "\u001b[1m94/94\u001b[0m \u001b[32m━━━━━━━━━━━━━━━━━━━━\u001b[0m\u001b[37m\u001b[0m \u001b[1m0s\u001b[0m 134ms/step - accuracy: 0.9946 - binary_io_u: 0.9767 - loss: 0.0237 - precision: 0.9868 - recall: 0.9895\n",
            "Epoch 84: val_accuracy did not improve from 0.98833\n",
            "\u001b[1m94/94\u001b[0m \u001b[32m━━━━━━━━━━━━━━━━━━━━\u001b[0m\u001b[37m\u001b[0m \u001b[1m24s\u001b[0m 249ms/step - accuracy: 0.9946 - binary_io_u: 0.9767 - loss: 0.0237 - precision: 0.9869 - recall: 0.9896 - val_accuracy: 0.9882 - val_binary_io_u: 0.9585 - val_loss: 0.0459 - val_precision: 0.9801 - val_recall: 0.9776 - learning_rate: 1.0000e-06\n",
            "Epoch 85/100\n",
            "\u001b[1m94/94\u001b[0m \u001b[32m━━━━━━━━━━━━━━━━━━━━\u001b[0m\u001b[37m\u001b[0m \u001b[1m0s\u001b[0m 134ms/step - accuracy: 0.9946 - binary_io_u: 0.9769 - loss: 0.0237 - precision: 0.9869 - recall: 0.9897\n",
            "Epoch 85: val_accuracy did not improve from 0.98833\n",
            "\u001b[1m94/94\u001b[0m \u001b[32m━━━━━━━━━━━━━━━━━━━━\u001b[0m\u001b[37m\u001b[0m \u001b[1m24s\u001b[0m 252ms/step - accuracy: 0.9946 - binary_io_u: 0.9769 - loss: 0.0236 - precision: 0.9869 - recall: 0.9897 - val_accuracy: 0.9882 - val_binary_io_u: 0.9585 - val_loss: 0.0460 - val_precision: 0.9800 - val_recall: 0.9776 - learning_rate: 1.0000e-06\n",
            "Epoch 86/100\n",
            "\u001b[1m94/94\u001b[0m \u001b[32m━━━━━━━━━━━━━━━━━━━━\u001b[0m\u001b[37m\u001b[0m \u001b[1m0s\u001b[0m 133ms/step - accuracy: 0.9946 - binary_io_u: 0.9767 - loss: 0.0237 - precision: 0.9868 - recall: 0.9896\n",
            "Epoch 86: val_accuracy did not improve from 0.98833\n",
            "\u001b[1m94/94\u001b[0m \u001b[32m━━━━━━━━━━━━━━━━━━━━\u001b[0m\u001b[37m\u001b[0m \u001b[1m24s\u001b[0m 249ms/step - accuracy: 0.9946 - binary_io_u: 0.9767 - loss: 0.0237 - precision: 0.9868 - recall: 0.9896 - val_accuracy: 0.9882 - val_binary_io_u: 0.9585 - val_loss: 0.0459 - val_precision: 0.9800 - val_recall: 0.9776 - learning_rate: 1.0000e-06\n",
            "Epoch 87/100\n",
            "\u001b[1m94/94\u001b[0m \u001b[32m━━━━━━━━━━━━━━━━━━━━\u001b[0m\u001b[37m\u001b[0m \u001b[1m0s\u001b[0m 134ms/step - accuracy: 0.9946 - binary_io_u: 0.9767 - loss: 0.0237 - precision: 0.9868 - recall: 0.9896\n",
            "Epoch 87: val_accuracy did not improve from 0.98833\n",
            "\u001b[1m94/94\u001b[0m \u001b[32m━━━━━━━━━━━━━━━━━━━━\u001b[0m\u001b[37m\u001b[0m \u001b[1m24s\u001b[0m 250ms/step - accuracy: 0.9946 - binary_io_u: 0.9767 - loss: 0.0236 - precision: 0.9868 - recall: 0.9896 - val_accuracy: 0.9883 - val_binary_io_u: 0.9587 - val_loss: 0.0457 - val_precision: 0.9808 - val_recall: 0.9771 - learning_rate: 1.0000e-06\n",
            "Epoch 88/100\n",
            "\u001b[1m94/94\u001b[0m \u001b[32m━━━━━━━━━━━━━━━━━━━━\u001b[0m\u001b[37m\u001b[0m \u001b[1m0s\u001b[0m 134ms/step - accuracy: 0.9946 - binary_io_u: 0.9766 - loss: 0.0238 - precision: 0.9867 - recall: 0.9896\n",
            "Epoch 88: val_accuracy did not improve from 0.98833\n",
            "\u001b[1m94/94\u001b[0m \u001b[32m━━━━━━━━━━━━━━━━━━━━\u001b[0m\u001b[37m\u001b[0m \u001b[1m24s\u001b[0m 250ms/step - accuracy: 0.9946 - binary_io_u: 0.9767 - loss: 0.0238 - precision: 0.9867 - recall: 0.9897 - val_accuracy: 0.9883 - val_binary_io_u: 0.9588 - val_loss: 0.0456 - val_precision: 0.9807 - val_recall: 0.9772 - learning_rate: 1.0000e-06\n",
            "Epoch 89/100\n",
            "\u001b[1m94/94\u001b[0m \u001b[32m━━━━━━━━━━━━━━━━━━━━\u001b[0m\u001b[37m\u001b[0m \u001b[1m0s\u001b[0m 135ms/step - accuracy: 0.9946 - binary_io_u: 0.9768 - loss: 0.0236 - precision: 0.9868 - recall: 0.9897\n",
            "Epoch 89: val_accuracy did not improve from 0.98833\n",
            "\u001b[1m94/94\u001b[0m \u001b[32m━━━━━━━━━━━━━━━━━━━━\u001b[0m\u001b[37m\u001b[0m \u001b[1m24s\u001b[0m 250ms/step - accuracy: 0.9946 - binary_io_u: 0.9768 - loss: 0.0236 - precision: 0.9868 - recall: 0.9898 - val_accuracy: 0.9882 - val_binary_io_u: 0.9586 - val_loss: 0.0458 - val_precision: 0.9803 - val_recall: 0.9774 - learning_rate: 1.0000e-06\n",
            "Epoch 90/100\n",
            "\u001b[1m94/94\u001b[0m \u001b[32m━━━━━━━━━━━━━━━━━━━━\u001b[0m\u001b[37m\u001b[0m \u001b[1m0s\u001b[0m 134ms/step - accuracy: 0.9946 - binary_io_u: 0.9767 - loss: 0.0236 - precision: 0.9868 - recall: 0.9896\n",
            "Epoch 90: val_accuracy did not improve from 0.98833\n",
            "\u001b[1m94/94\u001b[0m \u001b[32m━━━━━━━━━━━━━━━━━━━━\u001b[0m\u001b[37m\u001b[0m \u001b[1m24s\u001b[0m 250ms/step - accuracy: 0.9946 - binary_io_u: 0.9767 - loss: 0.0236 - precision: 0.9868 - recall: 0.9896 - val_accuracy: 0.9882 - val_binary_io_u: 0.9586 - val_loss: 0.0458 - val_precision: 0.9803 - val_recall: 0.9773 - learning_rate: 1.0000e-06\n",
            "Epoch 91/100\n",
            "\u001b[1m94/94\u001b[0m \u001b[32m━━━━━━━━━━━━━━━━━━━━\u001b[0m\u001b[37m\u001b[0m \u001b[1m0s\u001b[0m 135ms/step - accuracy: 0.9946 - binary_io_u: 0.9768 - loss: 0.0236 - precision: 0.9869 - recall: 0.9896\n",
            "Epoch 91: val_accuracy did not improve from 0.98833\n",
            "\u001b[1m94/94\u001b[0m \u001b[32m━━━━━━━━━━━━━━━━━━━━\u001b[0m\u001b[37m\u001b[0m \u001b[1m24s\u001b[0m 250ms/step - accuracy: 0.9946 - binary_io_u: 0.9768 - loss: 0.0236 - precision: 0.9869 - recall: 0.9896 - val_accuracy: 0.9882 - val_binary_io_u: 0.9586 - val_loss: 0.0458 - val_precision: 0.9804 - val_recall: 0.9773 - learning_rate: 1.0000e-06\n",
            "Epoch 92/100\n",
            "\u001b[1m94/94\u001b[0m \u001b[32m━━━━━━━━━━━━━━━━━━━━\u001b[0m\u001b[37m\u001b[0m \u001b[1m0s\u001b[0m 134ms/step - accuracy: 0.9947 - binary_io_u: 0.9771 - loss: 0.0234 - precision: 0.9870 - recall: 0.9898\n",
            "Epoch 92: val_accuracy did not improve from 0.98833\n",
            "\u001b[1m94/94\u001b[0m \u001b[32m━━━━━━━━━━━━━━━━━━━━\u001b[0m\u001b[37m\u001b[0m \u001b[1m24s\u001b[0m 250ms/step - accuracy: 0.9947 - binary_io_u: 0.9771 - loss: 0.0234 - precision: 0.9870 - recall: 0.9898 - val_accuracy: 0.9882 - val_binary_io_u: 0.9586 - val_loss: 0.0458 - val_precision: 0.9803 - val_recall: 0.9774 - learning_rate: 1.0000e-06\n",
            "Epoch 93/100\n",
            "\u001b[1m94/94\u001b[0m \u001b[32m━━━━━━━━━━━━━━━━━━━━\u001b[0m\u001b[37m\u001b[0m \u001b[1m0s\u001b[0m 135ms/step - accuracy: 0.9947 - binary_io_u: 0.9769 - loss: 0.0234 - precision: 0.9871 - recall: 0.9896\n",
            "Epoch 93: val_accuracy did not improve from 0.98833\n",
            "\u001b[1m94/94\u001b[0m \u001b[32m━━━━━━━━━━━━━━━━━━━━\u001b[0m\u001b[37m\u001b[0m \u001b[1m24s\u001b[0m 250ms/step - accuracy: 0.9947 - binary_io_u: 0.9770 - loss: 0.0234 - precision: 0.9871 - recall: 0.9896 - val_accuracy: 0.9882 - val_binary_io_u: 0.9585 - val_loss: 0.0459 - val_precision: 0.9803 - val_recall: 0.9774 - learning_rate: 1.0000e-06\n",
            "Epoch 94/100\n",
            "\u001b[1m94/94\u001b[0m \u001b[32m━━━━━━━━━━━━━━━━━━━━\u001b[0m\u001b[37m\u001b[0m \u001b[1m0s\u001b[0m 134ms/step - accuracy: 0.9947 - binary_io_u: 0.9770 - loss: 0.0235 - precision: 0.9868 - recall: 0.9899\n",
            "Epoch 94: val_accuracy did not improve from 0.98833\n",
            "\u001b[1m94/94\u001b[0m \u001b[32m━━━━━━━━━━━━━━━━━━━━\u001b[0m\u001b[37m\u001b[0m \u001b[1m24s\u001b[0m 248ms/step - accuracy: 0.9947 - binary_io_u: 0.9770 - loss: 0.0235 - precision: 0.9869 - recall: 0.9899 - val_accuracy: 0.9882 - val_binary_io_u: 0.9585 - val_loss: 0.0458 - val_precision: 0.9803 - val_recall: 0.9774 - learning_rate: 1.0000e-06\n",
            "Epoch 95/100\n",
            "\u001b[1m94/94\u001b[0m \u001b[32m━━━━━━━━━━━━━━━━━━━━\u001b[0m\u001b[37m\u001b[0m \u001b[1m0s\u001b[0m 135ms/step - accuracy: 0.9947 - binary_io_u: 0.9768 - loss: 0.0234 - precision: 0.9869 - recall: 0.9896\n",
            "Epoch 95: val_accuracy did not improve from 0.98833\n",
            "\u001b[1m94/94\u001b[0m \u001b[32m━━━━━━━━━━━━━━━━━━━━\u001b[0m\u001b[37m\u001b[0m \u001b[1m24s\u001b[0m 251ms/step - accuracy: 0.9947 - binary_io_u: 0.9768 - loss: 0.0234 - precision: 0.9870 - recall: 0.9896 - val_accuracy: 0.9882 - val_binary_io_u: 0.9586 - val_loss: 0.0458 - val_precision: 0.9804 - val_recall: 0.9774 - learning_rate: 1.0000e-06\n",
            "Epoch 96/100\n",
            "\u001b[1m94/94\u001b[0m \u001b[32m━━━━━━━━━━━━━━━━━━━━\u001b[0m\u001b[37m\u001b[0m \u001b[1m0s\u001b[0m 134ms/step - accuracy: 0.9947 - binary_io_u: 0.9769 - loss: 0.0234 - precision: 0.9869 - recall: 0.9898\n",
            "Epoch 96: val_accuracy did not improve from 0.98833\n",
            "\u001b[1m94/94\u001b[0m \u001b[32m━━━━━━━━━━━━━━━━━━━━\u001b[0m\u001b[37m\u001b[0m \u001b[1m24s\u001b[0m 250ms/step - accuracy: 0.9947 - binary_io_u: 0.9769 - loss: 0.0234 - precision: 0.9869 - recall: 0.9898 - val_accuracy: 0.9883 - val_binary_io_u: 0.9588 - val_loss: 0.0456 - val_precision: 0.9805 - val_recall: 0.9774 - learning_rate: 1.0000e-06\n",
            "Epoch 97/100\n",
            "\u001b[1m94/94\u001b[0m \u001b[32m━━━━━━━━━━━━━━━━━━━━\u001b[0m\u001b[37m\u001b[0m \u001b[1m0s\u001b[0m 134ms/step - accuracy: 0.9947 - binary_io_u: 0.9768 - loss: 0.0234 - precision: 0.9869 - recall: 0.9897\n",
            "Epoch 97: val_accuracy did not improve from 0.98833\n",
            "\u001b[1m94/94\u001b[0m \u001b[32m━━━━━━━━━━━━━━━━━━━━\u001b[0m\u001b[37m\u001b[0m \u001b[1m24s\u001b[0m 249ms/step - accuracy: 0.9947 - binary_io_u: 0.9769 - loss: 0.0234 - precision: 0.9869 - recall: 0.9897 - val_accuracy: 0.9882 - val_binary_io_u: 0.9585 - val_loss: 0.0459 - val_precision: 0.9802 - val_recall: 0.9774 - learning_rate: 1.0000e-06\n",
            "Epoch 98/100\n",
            "\u001b[1m94/94\u001b[0m \u001b[32m━━━━━━━━━━━━━━━━━━━━\u001b[0m\u001b[37m\u001b[0m \u001b[1m0s\u001b[0m 135ms/step - accuracy: 0.9947 - binary_io_u: 0.9769 - loss: 0.0233 - precision: 0.9871 - recall: 0.9896\n",
            "Epoch 98: val_accuracy did not improve from 0.98833\n",
            "\u001b[1m94/94\u001b[0m \u001b[32m━━━━━━━━━━━━━━━━━━━━\u001b[0m\u001b[37m\u001b[0m \u001b[1m24s\u001b[0m 250ms/step - accuracy: 0.9947 - binary_io_u: 0.9770 - loss: 0.0233 - precision: 0.9871 - recall: 0.9896 - val_accuracy: 0.9883 - val_binary_io_u: 0.9587 - val_loss: 0.0456 - val_precision: 0.9805 - val_recall: 0.9774 - learning_rate: 1.0000e-06\n",
            "Epoch 99/100\n",
            "\u001b[1m94/94\u001b[0m \u001b[32m━━━━━━━━━━━━━━━━━━━━\u001b[0m\u001b[37m\u001b[0m \u001b[1m0s\u001b[0m 135ms/step - accuracy: 0.9947 - binary_io_u: 0.9769 - loss: 0.0234 - precision: 0.9870 - recall: 0.9896\n",
            "Epoch 99: val_accuracy did not improve from 0.98833\n",
            "\u001b[1m94/94\u001b[0m \u001b[32m━━━━━━━━━━━━━━━━━━━━\u001b[0m\u001b[37m\u001b[0m \u001b[1m24s\u001b[0m 249ms/step - accuracy: 0.9947 - binary_io_u: 0.9769 - loss: 0.0233 - precision: 0.9870 - recall: 0.9896 - val_accuracy: 0.9883 - val_binary_io_u: 0.9589 - val_loss: 0.0455 - val_precision: 0.9807 - val_recall: 0.9774 - learning_rate: 1.0000e-06\n",
            "Epoch 100/100\n",
            "\u001b[1m94/94\u001b[0m \u001b[32m━━━━━━━━━━━━━━━━━━━━\u001b[0m\u001b[37m\u001b[0m \u001b[1m0s\u001b[0m 134ms/step - accuracy: 0.9948 - binary_io_u: 0.9772 - loss: 0.0232 - precision: 0.9871 - recall: 0.9899\n",
            "Epoch 100: val_accuracy did not improve from 0.98833\n",
            "\u001b[1m94/94\u001b[0m \u001b[32m━━━━━━━━━━━━━━━━━━━━\u001b[0m\u001b[37m\u001b[0m \u001b[1m24s\u001b[0m 250ms/step - accuracy: 0.9948 - binary_io_u: 0.9772 - loss: 0.0232 - precision: 0.9871 - recall: 0.9899 - val_accuracy: 0.9882 - val_binary_io_u: 0.9585 - val_loss: 0.0459 - val_precision: 0.9800 - val_recall: 0.9776 - learning_rate: 1.0000e-06\n"
          ]
        }
      ]
    }
  ]
}