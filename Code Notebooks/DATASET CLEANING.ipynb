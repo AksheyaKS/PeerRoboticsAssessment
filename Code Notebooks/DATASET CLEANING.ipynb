{
 "cells": [
  {
   "cell_type": "code",
   "execution_count": 3,
   "id": "7a69db58",
   "metadata": {},
   "outputs": [
    {
     "name": "stderr",
     "output_type": "stream",
     "text": [
      "Renaming files: 100%|██████████| 525/525 [00:01<00:00, 515.85it/s]"
     ]
    },
    {
     "name": "stdout",
     "output_type": "stream",
     "text": [
      "✅ Renaming complete!\n"
     ]
    },
    {
     "name": "stderr",
     "output_type": "stream",
     "text": [
      "\n"
     ]
    }
   ],
   "source": [
    "import os\n",
    "import shutil\n",
    "from tqdm import tqdm\n",
    "\n",
    "image_dir = r\"C:\\Users\\ksaks\\Documents\\Masters Stuff\\PR\\EuroPallet\\valid\\images\"\n",
    "label_dir = r\"C:\\Users\\ksaks\\Documents\\Masters Stuff\\PR\\EuroPallet\\valid\\labels\"\n",
    "\n",
    "image_ext = \".jpg\"\n",
    "label_ext = \".txt\"\n",
    "\n",
    "image_files = sorted([f for f in os.listdir(image_dir) if f.endswith(image_ext)])\n",
    "\n",
    "for idx, img_file in enumerate(tqdm(image_files, desc=\"Renaming files\"), start=1):\n",
    "    new_name = f\"image_{idx:04d}\"\n",
    "\n",
    "    base_name = os.path.splitext(img_file)[0]\n",
    "    old_image_path = os.path.join(image_dir, img_file)\n",
    "    old_label_path = os.path.join(label_dir, base_name + label_ext)\n",
    "\n",
    "    new_image_path = os.path.join(image_dir, new_name + image_ext)\n",
    "    new_label_path = os.path.join(label_dir, new_name + label_ext)\n",
    "\n",
    "    if os.path.exists(old_label_path):\n",
    "        if os.path.splitext(os.path.basename(old_label_path))[0] == base_name:\n",
    "            os.rename(old_image_path, new_image_path)\n",
    "            os.rename(old_label_path, new_label_path)\n",
    "        else:\n",
    "            print(f\"Skipped: Label mismatch for {img_file}\")\n",
    "    else:\n",
    "        print(f\"Warning: Label not found for {img_file}\")\n",
    "\n",
    "print(\"✅ Renaming complete!\")"
   ]
  },
  {
   "cell_type": "code",
   "execution_count": null,
   "id": "9707c19a",
   "metadata": {},
   "outputs": [],
   "source": []
  }
 ],
 "metadata": {
  "kernelspec": {
   "display_name": "Python 3 (ipykernel)",
   "language": "python",
   "name": "python3"
  },
  "language_info": {
   "codemirror_mode": {
    "name": "ipython",
    "version": 3
   },
   "file_extension": ".py",
   "mimetype": "text/x-python",
   "name": "python",
   "nbconvert_exporter": "python",
   "pygments_lexer": "ipython3",
   "version": "3.12.7"
  }
 },
 "nbformat": 4,
 "nbformat_minor": 5
}
